{
 "cells": [
  {
   "cell_type": "markdown",
   "id": "412343c2",
   "metadata": {},
   "source": [
    "#                                             Assignment II"
   ]
  },
  {
   "cell_type": "markdown",
   "id": "757d84e6",
   "metadata": {},
   "source": [
    "# Q1: Write a python program to scrape data for “Data Analyst” Job position in “Bangalore” location. You have to scrape the job-title, job-location, company_name, experience_required. You have to scrape first 10 jobs data."
   ]
  },
  {
   "cell_type": "code",
   "execution_count": 1,
   "id": "ca642057",
   "metadata": {},
   "outputs": [
    {
     "name": "stdout",
     "output_type": "stream",
     "text": [
      "Requirement already satisfied: selenium in c:\\users\\asus\\anaconda3\\lib\\site-packages (4.1.3)\n",
      "Requirement already satisfied: trio-websocket~=0.9 in c:\\users\\asus\\anaconda3\\lib\\site-packages (from selenium) (0.9.2)\n",
      "Requirement already satisfied: trio~=0.17 in c:\\users\\asus\\anaconda3\\lib\\site-packages (from selenium) (0.20.0)\n",
      "Requirement already satisfied: urllib3[secure,socks]~=1.26 in c:\\users\\asus\\anaconda3\\lib\\site-packages (from selenium) (1.26.7)\n",
      "Requirement already satisfied: sortedcontainers in c:\\users\\asus\\anaconda3\\lib\\site-packages (from trio~=0.17->selenium) (2.4.0)\n",
      "Requirement already satisfied: async-generator>=1.9 in c:\\users\\asus\\anaconda3\\lib\\site-packages (from trio~=0.17->selenium) (1.10)\n",
      "Requirement already satisfied: outcome in c:\\users\\asus\\anaconda3\\lib\\site-packages (from trio~=0.17->selenium) (1.1.0)\n",
      "Requirement already satisfied: cffi>=1.14 in c:\\users\\asus\\anaconda3\\lib\\site-packages (from trio~=0.17->selenium) (1.14.6)\n",
      "Requirement already satisfied: attrs>=19.2.0 in c:\\users\\asus\\anaconda3\\lib\\site-packages (from trio~=0.17->selenium) (21.2.0)\n",
      "Requirement already satisfied: sniffio in c:\\users\\asus\\anaconda3\\lib\\site-packages (from trio~=0.17->selenium) (1.2.0)\n",
      "Requirement already satisfied: idna in c:\\users\\asus\\anaconda3\\lib\\site-packages (from trio~=0.17->selenium) (3.2)\n",
      "Requirement already satisfied: pycparser in c:\\users\\asus\\anaconda3\\lib\\site-packages (from cffi>=1.14->trio~=0.17->selenium) (2.20)\n",
      "Requirement already satisfied: wsproto>=0.14 in c:\\users\\asus\\anaconda3\\lib\\site-packages (from trio-websocket~=0.9->selenium) (1.1.0)\n",
      "Requirement already satisfied: pyOpenSSL>=0.14 in c:\\users\\asus\\anaconda3\\lib\\site-packages (from urllib3[secure,socks]~=1.26->selenium) (21.0.0)\n",
      "Requirement already satisfied: cryptography>=1.3.4 in c:\\users\\asus\\anaconda3\\lib\\site-packages (from urllib3[secure,socks]~=1.26->selenium) (3.4.8)\n",
      "Requirement already satisfied: certifi in c:\\users\\asus\\anaconda3\\lib\\site-packages (from urllib3[secure,socks]~=1.26->selenium) (2021.10.8)\n",
      "Requirement already satisfied: PySocks!=1.5.7,<2.0,>=1.5.6 in c:\\users\\asus\\anaconda3\\lib\\site-packages (from urllib3[secure,socks]~=1.26->selenium) (1.7.1)\n",
      "Requirement already satisfied: six>=1.5.2 in c:\\users\\asus\\anaconda3\\lib\\site-packages (from pyOpenSSL>=0.14->urllib3[secure,socks]~=1.26->selenium) (1.16.0)\n",
      "Requirement already satisfied: h11<1,>=0.9.0 in c:\\users\\asus\\anaconda3\\lib\\site-packages (from wsproto>=0.14->trio-websocket~=0.9->selenium) (0.13.0)\n"
     ]
    }
   ],
   "source": [
    "#installing selenium library \n",
    "!pip install selenium"
   ]
  },
  {
   "cell_type": "code",
   "execution_count": 2,
   "id": "2f48dcba",
   "metadata": {},
   "outputs": [],
   "source": [
    "#importing required libraries\n",
    "import selenium\n",
    "import pandas as pd\n",
    "from selenium import webdriver \n",
    "import warnings\n",
    "warnings.filterwarnings('ignore')\n",
    "import time"
   ]
  },
  {
   "cell_type": "code",
   "execution_count": 3,
   "id": "c8f0fe6e",
   "metadata": {},
   "outputs": [],
   "source": [
    "#connecting to webdriver\n",
    "driver= webdriver.Chrome(r\"C:\\Users\\Asus\\Desktop\\webdriver\\chromedriver.exe\")\n",
    "\n",
    "driver=webdriver.Chrome(\"chromedriver.exe\")\n",
    "time.sleep(2)\n",
    "\n",
    "#opening nakuri.com website in automated window \n",
    "driver.get(\"https://www.naukri.com/\")"
   ]
  },
  {
   "cell_type": "code",
   "execution_count": 4,
   "id": "30fa1b4b",
   "metadata": {},
   "outputs": [],
   "source": [
    "#finding the element for job search \n",
    "search_feild_designation=driver.find_element_by_class_name('suggestor-input')\n",
    "search_feild_designation.send_keys('Data Analyst')"
   ]
  },
  {
   "cell_type": "code",
   "execution_count": 5,
   "id": "95080d55",
   "metadata": {},
   "outputs": [],
   "source": [
    "#entering the location Bangalore with the help of Xpath \n",
    "search_feild_location=driver.find_element_by_xpath('/html/body/div/div[2]/div[3]/div/div/div[3]/div/div/div/input')\n",
    "search_feild_location.send_keys('Bangalore')"
   ]
  },
  {
   "cell_type": "code",
   "execution_count": 6,
   "id": "6502c383",
   "metadata": {},
   "outputs": [],
   "source": [
    "#clicking on the search button to show results\n",
    "search_button=driver.find_element_by_xpath('/html/body/div/div[2]/div[3]/div/div/div[6]')\n",
    "search_button.click()"
   ]
  },
  {
   "cell_type": "code",
   "execution_count": 18,
   "id": "8e1b7e6e",
   "metadata": {},
   "outputs": [],
   "source": [
    "#creating empty lists to scrap the data for first 10 job results\n",
    "job_titles=[]\n",
    "company_names=[]\n",
    "location=[]\n",
    "experience_list=[]"
   ]
  },
  {
   "cell_type": "code",
   "execution_count": 19,
   "id": "34184c4d",
   "metadata": {},
   "outputs": [
    {
     "data": {
      "text/plain": [
       "['Sr Data Analyst II',\n",
       " 'Senior Business Analyst - Data Sciences and Advanced Analytics',\n",
       " 'Business and Data Analyst',\n",
       " 'Data Analyst - Python / SQL',\n",
       " 'Data Analyst 2-1',\n",
       " 'Senior Data Analyst',\n",
       " 'Data Analyst',\n",
       " 'Senior Data Analyst',\n",
       " 'Jr . Data Analyst',\n",
       " 'Senior Data Analyst, Data & Analytics']"
      ]
     },
     "execution_count": 19,
     "metadata": {},
     "output_type": "execute_result"
    }
   ],
   "source": [
    "#scrapting all the tags having Job-titles\n",
    "title_tags=driver.find_elements_by_xpath(\"//a[@class='title fw500 ellipsis']\")\n",
    "#printing top 10 results\n",
    "title_tags[0:10]\n",
    "\n",
    "#displaying the tags extracted above into text \n",
    "for i in title_tags:\n",
    "    title=i.text\n",
    "    job_titles.append(title)\n",
    "job_titles[0:10]"
   ]
  },
  {
   "cell_type": "code",
   "execution_count": 20,
   "id": "8ebd718b",
   "metadata": {},
   "outputs": [
    {
     "data": {
      "text/plain": [
       "['IHS Markit',\n",
       " 'Vmware',\n",
       " 'CAREERDOST ENTERPRISE',\n",
       " 'Myntra',\n",
       " 'PayPal',\n",
       " 'Capco',\n",
       " 'Concerto HealthAI',\n",
       " 'Gsn Games India',\n",
       " 'Armorblox',\n",
       " 'ReSource Pro Operational Solutions Pvt Ltd.']"
      ]
     },
     "execution_count": 20,
     "metadata": {},
     "output_type": "execute_result"
    }
   ],
   "source": [
    "#extracting all the tags having the company name\n",
    "company_tags=driver.find_elements_by_xpath(\"//a[@class='subTitle ellipsis fleft']\")\n",
    "#printing top 10 results\n",
    "company_tags[0:10]\n",
    "\n",
    "#displaying the tags extracted above into text \n",
    "for i in company_tags:\n",
    "    company_name=i.text\n",
    "    company_names.append(company_name)\n",
    "company_names[0:10]"
   ]
  },
  {
   "cell_type": "code",
   "execution_count": 21,
   "id": "b34875f6",
   "metadata": {},
   "outputs": [
    {
     "data": {
      "text/plain": [
       "['3-6 Yrs',\n",
       " '3-7 Yrs',\n",
       " '0-5 Yrs',\n",
       " '1-4 Yrs',\n",
       " '5-8 Yrs',\n",
       " '7-12 Yrs',\n",
       " '3-5 Yrs',\n",
       " '3-7 Yrs',\n",
       " '0-2 Yrs',\n",
       " '3-5 Yrs']"
      ]
     },
     "execution_count": 21,
     "metadata": {},
     "output_type": "execute_result"
    }
   ],
   "source": [
    "#extracting all the tags having years of experience required\n",
    "experience_tags=driver.find_elements_by_xpath(\"//li[@class='fleft grey-text br2 placeHolderLi experience']\")\n",
    "#printing top 10 results\n",
    "experience_tags[0:10]\n",
    "\n",
    "#displaying the tags extracted above into text \n",
    "for i in experience_tags:\n",
    "    experience=i.text\n",
    "    experience_list.append(experience)\n",
    "experience_list[0:10]"
   ]
  },
  {
   "cell_type": "code",
   "execution_count": 22,
   "id": "6cbc2337",
   "metadata": {},
   "outputs": [
    {
     "data": {
      "text/plain": [
       "['Gurgaon/Gurugram, Bangalore/Bengaluru',\n",
       " 'Bangalore/Bengaluru',\n",
       " 'Bangalore/Bengaluru\\n(WFH during Covid)',\n",
       " 'Bangalore/Bengaluru',\n",
       " 'Bangalore/Bengaluru',\n",
       " 'Pune, Gurgaon/Gurugram, Chennai, Bangalore/Bengaluru',\n",
       " 'Bangalore/Bengaluru',\n",
       " 'Bangalore/Bengaluru',\n",
       " 'Bangalore/Bengaluru',\n",
       " 'Bangalore/Bengaluru']"
      ]
     },
     "execution_count": 22,
     "metadata": {},
     "output_type": "execute_result"
    }
   ],
   "source": [
    "#extracting all the tags having location\n",
    "location_tags=driver.find_elements_by_xpath(\"//li[@class='fleft grey-text br2 placeHolderLi location']\")\n",
    "#printing top 10 results\n",
    "location_tags[0:10]\n",
    "\n",
    "#displaying the tags extracted above into text \n",
    "for i in location_tags:\n",
    "    locations=i.text\n",
    "    location.append(locations)\n",
    "location[0:10]"
   ]
  },
  {
   "cell_type": "code",
   "execution_count": 23,
   "id": "347224dd",
   "metadata": {},
   "outputs": [
    {
     "name": "stdout",
     "output_type": "stream",
     "text": [
      "20 20 20 20\n"
     ]
    }
   ],
   "source": [
    "#printing the length of each list \n",
    "print(len(job_titles),len(company_names),len(experience_list),len(location))"
   ]
  },
  {
   "cell_type": "code",
   "execution_count": 24,
   "id": "c400537b",
   "metadata": {},
   "outputs": [
    {
     "data": {
      "text/html": [
       "<div>\n",
       "<style scoped>\n",
       "    .dataframe tbody tr th:only-of-type {\n",
       "        vertical-align: middle;\n",
       "    }\n",
       "\n",
       "    .dataframe tbody tr th {\n",
       "        vertical-align: top;\n",
       "    }\n",
       "\n",
       "    .dataframe thead th {\n",
       "        text-align: right;\n",
       "    }\n",
       "</style>\n",
       "<table border=\"1\" class=\"dataframe\">\n",
       "  <thead>\n",
       "    <tr style=\"text-align: right;\">\n",
       "      <th></th>\n",
       "      <th>Title</th>\n",
       "      <th>Company</th>\n",
       "      <th>Experience Required</th>\n",
       "      <th>Location</th>\n",
       "    </tr>\n",
       "  </thead>\n",
       "  <tbody>\n",
       "    <tr>\n",
       "      <th>0</th>\n",
       "      <td>Sr Data Analyst II</td>\n",
       "      <td>IHS Markit</td>\n",
       "      <td>3-6 Yrs</td>\n",
       "      <td>Gurgaon/Gurugram, Bangalore/Bengaluru</td>\n",
       "    </tr>\n",
       "    <tr>\n",
       "      <th>1</th>\n",
       "      <td>Senior Business Analyst - Data Sciences and Ad...</td>\n",
       "      <td>Vmware</td>\n",
       "      <td>3-7 Yrs</td>\n",
       "      <td>Bangalore/Bengaluru</td>\n",
       "    </tr>\n",
       "    <tr>\n",
       "      <th>2</th>\n",
       "      <td>Business and Data Analyst</td>\n",
       "      <td>CAREERDOST ENTERPRISE</td>\n",
       "      <td>0-5 Yrs</td>\n",
       "      <td>Bangalore/Bengaluru\\n(WFH during Covid)</td>\n",
       "    </tr>\n",
       "    <tr>\n",
       "      <th>3</th>\n",
       "      <td>Data Analyst - Python / SQL</td>\n",
       "      <td>Myntra</td>\n",
       "      <td>1-4 Yrs</td>\n",
       "      <td>Bangalore/Bengaluru</td>\n",
       "    </tr>\n",
       "    <tr>\n",
       "      <th>4</th>\n",
       "      <td>Data Analyst 2-1</td>\n",
       "      <td>PayPal</td>\n",
       "      <td>5-8 Yrs</td>\n",
       "      <td>Bangalore/Bengaluru</td>\n",
       "    </tr>\n",
       "    <tr>\n",
       "      <th>5</th>\n",
       "      <td>Senior Data Analyst</td>\n",
       "      <td>Capco</td>\n",
       "      <td>7-12 Yrs</td>\n",
       "      <td>Pune, Gurgaon/Gurugram, Chennai, Bangalore/Ben...</td>\n",
       "    </tr>\n",
       "    <tr>\n",
       "      <th>6</th>\n",
       "      <td>Data Analyst</td>\n",
       "      <td>Concerto HealthAI</td>\n",
       "      <td>3-5 Yrs</td>\n",
       "      <td>Bangalore/Bengaluru</td>\n",
       "    </tr>\n",
       "    <tr>\n",
       "      <th>7</th>\n",
       "      <td>Senior Data Analyst</td>\n",
       "      <td>Gsn Games India</td>\n",
       "      <td>3-7 Yrs</td>\n",
       "      <td>Bangalore/Bengaluru</td>\n",
       "    </tr>\n",
       "    <tr>\n",
       "      <th>8</th>\n",
       "      <td>Jr . Data Analyst</td>\n",
       "      <td>Armorblox</td>\n",
       "      <td>0-2 Yrs</td>\n",
       "      <td>Bangalore/Bengaluru</td>\n",
       "    </tr>\n",
       "    <tr>\n",
       "      <th>9</th>\n",
       "      <td>Senior Data Analyst, Data &amp; Analytics</td>\n",
       "      <td>ReSource Pro Operational Solutions Pvt Ltd.</td>\n",
       "      <td>3-5 Yrs</td>\n",
       "      <td>Bangalore/Bengaluru</td>\n",
       "    </tr>\n",
       "  </tbody>\n",
       "</table>\n",
       "</div>"
      ],
      "text/plain": [
       "                                               Title  \\\n",
       "0                                 Sr Data Analyst II   \n",
       "1  Senior Business Analyst - Data Sciences and Ad...   \n",
       "2                          Business and Data Analyst   \n",
       "3                        Data Analyst - Python / SQL   \n",
       "4                                   Data Analyst 2-1   \n",
       "5                                Senior Data Analyst   \n",
       "6                                       Data Analyst   \n",
       "7                                Senior Data Analyst   \n",
       "8                                  Jr . Data Analyst   \n",
       "9              Senior Data Analyst, Data & Analytics   \n",
       "\n",
       "                                       Company Experience Required  \\\n",
       "0                                   IHS Markit             3-6 Yrs   \n",
       "1                                       Vmware             3-7 Yrs   \n",
       "2                        CAREERDOST ENTERPRISE             0-5 Yrs   \n",
       "3                                       Myntra             1-4 Yrs   \n",
       "4                                       PayPal             5-8 Yrs   \n",
       "5                                        Capco            7-12 Yrs   \n",
       "6                            Concerto HealthAI             3-5 Yrs   \n",
       "7                              Gsn Games India             3-7 Yrs   \n",
       "8                                    Armorblox             0-2 Yrs   \n",
       "9  ReSource Pro Operational Solutions Pvt Ltd.             3-5 Yrs   \n",
       "\n",
       "                                            Location  \n",
       "0              Gurgaon/Gurugram, Bangalore/Bengaluru  \n",
       "1                                Bangalore/Bengaluru  \n",
       "2            Bangalore/Bengaluru\\n(WFH during Covid)  \n",
       "3                                Bangalore/Bengaluru  \n",
       "4                                Bangalore/Bengaluru  \n",
       "5  Pune, Gurgaon/Gurugram, Chennai, Bangalore/Ben...  \n",
       "6                                Bangalore/Bengaluru  \n",
       "7                                Bangalore/Bengaluru  \n",
       "8                                Bangalore/Bengaluru  \n",
       "9                                Bangalore/Bengaluru  "
      ]
     },
     "execution_count": 24,
     "metadata": {},
     "output_type": "execute_result"
    }
   ],
   "source": [
    "#importing pandas to make a dataframe\n",
    "jobs=pd.DataFrame({})\n",
    "jobs['Title']=job_titles\n",
    "jobs['Company']=company_names\n",
    "jobs['Experience Required']=experience_list\n",
    "jobs['Location']=location\n",
    "\n",
    "jobs[0:10]"
   ]
  },
  {
   "cell_type": "markdown",
   "id": "15acf580",
   "metadata": {},
   "source": [
    "# Q2: Write a python program to scrape data for “Data Scientist” Job position in “Bangalore” location. You have to scrape the job-title, job-location, company_name. You have to scrape first 10 jobs data.This task will be done in following steps:"
   ]
  },
  {
   "cell_type": "code",
   "execution_count": 91,
   "id": "152ca005",
   "metadata": {},
   "outputs": [],
   "source": [
    "#importing required libraries\n",
    "import selenium\n",
    "import pandas as pd\n",
    "from selenium import webdriver \n",
    "import warnings\n",
    "warnings.filterwarnings('ignore')\n",
    "import time"
   ]
  },
  {
   "cell_type": "code",
   "execution_count": 3,
   "id": "0823f5ca",
   "metadata": {},
   "outputs": [],
   "source": [
    "#connecting to webdriver\n",
    "driver2= webdriver.Chrome(r\"C:\\Users\\Asus\\Desktop\\webdriver\\chromedriver.exe\")\n",
    "\n",
    "driver2=webdriver.Chrome(\"chromedriver.exe\")\n",
    "time.sleep(2)\n",
    "\n",
    "#opening nakuri.com website in automated window \n",
    "driver2.get(\"https://www.naukri.com/\")"
   ]
  },
  {
   "cell_type": "code",
   "execution_count": 4,
   "id": "cb36fa22",
   "metadata": {},
   "outputs": [],
   "source": [
    "#finding the element for job search \n",
    "search_feild_designation=driver2.find_element_by_class_name('suggestor-input')\n",
    "search_feild_designation.send_keys('Data Scientist')"
   ]
  },
  {
   "cell_type": "code",
   "execution_count": 5,
   "id": "c7aa9285",
   "metadata": {},
   "outputs": [],
   "source": [
    "#entering the location Bangalore with the help of Xpath \n",
    "search_feild_location=driver2.find_element_by_xpath('/html/body/div/div[2]/div[3]/div/div/div[3]/div/div/div/input')\n",
    "search_feild_location.send_keys('Bangalore')"
   ]
  },
  {
   "cell_type": "code",
   "execution_count": 6,
   "id": "b84a1923",
   "metadata": {},
   "outputs": [],
   "source": [
    "#clicking on the search button to show results\n",
    "search_button=driver2.find_element_by_xpath('/html/body/div/div[2]/div[3]/div/div/div[6]')\n",
    "search_button.click()"
   ]
  },
  {
   "cell_type": "code",
   "execution_count": 7,
   "id": "6708bfd0",
   "metadata": {},
   "outputs": [],
   "source": [
    "#creating empty lists to scrap the data for first 10 job results\n",
    "job_titles=[]\n",
    "company_names=[]\n",
    "job_location=[]"
   ]
  },
  {
   "cell_type": "code",
   "execution_count": 8,
   "id": "7e348497",
   "metadata": {},
   "outputs": [
    {
     "data": {
      "text/plain": [
       "[<selenium.webdriver.remote.webelement.WebElement (session=\"bdf1f50b1fe0fb2d3cc642507b819197\", element=\"8222d8e2-87d0-4867-9aaf-5bad38dcdf60\")>,\n",
       " <selenium.webdriver.remote.webelement.WebElement (session=\"bdf1f50b1fe0fb2d3cc642507b819197\", element=\"cbd77779-db1f-4245-bc8f-83fc0aca494f\")>,\n",
       " <selenium.webdriver.remote.webelement.WebElement (session=\"bdf1f50b1fe0fb2d3cc642507b819197\", element=\"377ca1b5-b59b-48e3-823a-0d57b78e1a3a\")>,\n",
       " <selenium.webdriver.remote.webelement.WebElement (session=\"bdf1f50b1fe0fb2d3cc642507b819197\", element=\"d98f8633-29d9-4517-a360-b50e203c5a07\")>,\n",
       " <selenium.webdriver.remote.webelement.WebElement (session=\"bdf1f50b1fe0fb2d3cc642507b819197\", element=\"96c14621-3af7-434c-9f21-b58c3f6931d6\")>,\n",
       " <selenium.webdriver.remote.webelement.WebElement (session=\"bdf1f50b1fe0fb2d3cc642507b819197\", element=\"08f65aec-6216-475b-9145-d5c5174b11ab\")>,\n",
       " <selenium.webdriver.remote.webelement.WebElement (session=\"bdf1f50b1fe0fb2d3cc642507b819197\", element=\"2b75d424-9b15-483a-86c6-3d1e8194c42a\")>,\n",
       " <selenium.webdriver.remote.webelement.WebElement (session=\"bdf1f50b1fe0fb2d3cc642507b819197\", element=\"f43e88c4-8ce1-45d2-99ac-a1cdadb80c42\")>,\n",
       " <selenium.webdriver.remote.webelement.WebElement (session=\"bdf1f50b1fe0fb2d3cc642507b819197\", element=\"f3914e7b-77b9-47a0-870c-2223fd8bb47f\")>,\n",
       " <selenium.webdriver.remote.webelement.WebElement (session=\"bdf1f50b1fe0fb2d3cc642507b819197\", element=\"355c1002-5df7-4da1-8b70-4eabc0734ca2\")>]"
      ]
     },
     "execution_count": 8,
     "metadata": {},
     "output_type": "execute_result"
    }
   ],
   "source": [
    "#scrapting all the tags having Job-titles\n",
    "title_tags=driver2.find_elements_by_xpath(\"//a[@class='title fw500 ellipsis']\")\n",
    "#printing top 10 results\n",
    "title_tags[0:10]"
   ]
  },
  {
   "cell_type": "code",
   "execution_count": 9,
   "id": "9b1b4375",
   "metadata": {},
   "outputs": [
    {
     "data": {
      "text/plain": [
       "['Senior Data Scientist Grade12',\n",
       " 'Senior Data Scientist Grade12',\n",
       " 'Senior Data Scientist',\n",
       " 'Data Scientist: Advanced Analytics',\n",
       " 'Data Scientist',\n",
       " 'Data Scientist',\n",
       " 'Data Scientist: Artificial Intelligence',\n",
       " 'Data Scientist: Artificial Intelligence',\n",
       " 'Data Scientist: Artificial Intelligence',\n",
       " 'Data Scientist: Artificial Intelligence']"
      ]
     },
     "execution_count": 9,
     "metadata": {},
     "output_type": "execute_result"
    }
   ],
   "source": [
    "#displaying the tags extracted above into text \n",
    "for i in title_tags:\n",
    "    title=i.text\n",
    "    job_titles.append(title)\n",
    "job_titles[0:10]"
   ]
  },
  {
   "cell_type": "code",
   "execution_count": 10,
   "id": "b2ba8528",
   "metadata": {},
   "outputs": [
    {
     "data": {
      "text/plain": [
       "[<selenium.webdriver.remote.webelement.WebElement (session=\"bdf1f50b1fe0fb2d3cc642507b819197\", element=\"c248bb45-beed-4af3-99b3-567c2999383e\")>,\n",
       " <selenium.webdriver.remote.webelement.WebElement (session=\"bdf1f50b1fe0fb2d3cc642507b819197\", element=\"97a0f7f9-e58f-46d6-8e89-14bb61d2e5a3\")>,\n",
       " <selenium.webdriver.remote.webelement.WebElement (session=\"bdf1f50b1fe0fb2d3cc642507b819197\", element=\"48a2751e-7975-4e87-9063-316e9cfd79c1\")>,\n",
       " <selenium.webdriver.remote.webelement.WebElement (session=\"bdf1f50b1fe0fb2d3cc642507b819197\", element=\"7aba8c0f-e1ed-46c5-99e8-f37847e86cec\")>,\n",
       " <selenium.webdriver.remote.webelement.WebElement (session=\"bdf1f50b1fe0fb2d3cc642507b819197\", element=\"45526e01-6859-4bb5-a642-9fa1bb1a5073\")>,\n",
       " <selenium.webdriver.remote.webelement.WebElement (session=\"bdf1f50b1fe0fb2d3cc642507b819197\", element=\"7498aa12-0d49-42e7-90dc-1b455d9571a7\")>,\n",
       " <selenium.webdriver.remote.webelement.WebElement (session=\"bdf1f50b1fe0fb2d3cc642507b819197\", element=\"7ba94301-2715-401b-8262-16f94d142797\")>,\n",
       " <selenium.webdriver.remote.webelement.WebElement (session=\"bdf1f50b1fe0fb2d3cc642507b819197\", element=\"a80f210c-e483-452b-9d04-3a43f5849498\")>,\n",
       " <selenium.webdriver.remote.webelement.WebElement (session=\"bdf1f50b1fe0fb2d3cc642507b819197\", element=\"d5f4a576-0b7e-4248-86ce-5e14053790b9\")>,\n",
       " <selenium.webdriver.remote.webelement.WebElement (session=\"bdf1f50b1fe0fb2d3cc642507b819197\", element=\"b305ab97-2685-474d-9adb-d9664675bc57\")>]"
      ]
     },
     "execution_count": 10,
     "metadata": {},
     "output_type": "execute_result"
    }
   ],
   "source": [
    "#extracting all the tags having company names\n",
    "company_tags=driver2.find_elements_by_xpath(\"//a[@class='subTitle ellipsis fleft']\")\n",
    "#printing top 10 results\n",
    "company_tags[0:10]"
   ]
  },
  {
   "cell_type": "code",
   "execution_count": 11,
   "id": "5669810e",
   "metadata": {},
   "outputs": [
    {
     "data": {
      "text/plain": [
       "['Flipkart',\n",
       " 'Flipkart',\n",
       " 'Fractal Analytics',\n",
       " 'IBM',\n",
       " 'Genpact',\n",
       " 'VISA',\n",
       " 'IBM',\n",
       " 'IBM',\n",
       " 'IBM',\n",
       " 'IBM']"
      ]
     },
     "execution_count": 11,
     "metadata": {},
     "output_type": "execute_result"
    }
   ],
   "source": [
    "#displaying the tags extracted above into text \n",
    "for i in company_tags:\n",
    "    company_name=i.text\n",
    "    company_names.append(company_name)\n",
    "company_names[0:10]"
   ]
  },
  {
   "cell_type": "code",
   "execution_count": 12,
   "id": "740b15ee",
   "metadata": {},
   "outputs": [
    {
     "data": {
      "text/plain": [
       "[<selenium.webdriver.remote.webelement.WebElement (session=\"bdf1f50b1fe0fb2d3cc642507b819197\", element=\"b0588df7-3cdb-4b9e-b6cb-496876921248\")>,\n",
       " <selenium.webdriver.remote.webelement.WebElement (session=\"bdf1f50b1fe0fb2d3cc642507b819197\", element=\"47ee775d-70fe-4340-b59d-a1d389547ae0\")>,\n",
       " <selenium.webdriver.remote.webelement.WebElement (session=\"bdf1f50b1fe0fb2d3cc642507b819197\", element=\"9ab437fa-f973-45a5-88cc-6b786fe5d6af\")>,\n",
       " <selenium.webdriver.remote.webelement.WebElement (session=\"bdf1f50b1fe0fb2d3cc642507b819197\", element=\"47b4c30a-5101-435a-bc60-1a25f9003204\")>,\n",
       " <selenium.webdriver.remote.webelement.WebElement (session=\"bdf1f50b1fe0fb2d3cc642507b819197\", element=\"280d58c7-58a5-4749-b8da-82616ed6e0d5\")>,\n",
       " <selenium.webdriver.remote.webelement.WebElement (session=\"bdf1f50b1fe0fb2d3cc642507b819197\", element=\"6eb46bdc-44f0-41c6-bb0a-b6508e4fa989\")>,\n",
       " <selenium.webdriver.remote.webelement.WebElement (session=\"bdf1f50b1fe0fb2d3cc642507b819197\", element=\"0b69332f-5385-4790-b173-edfdd2245374\")>,\n",
       " <selenium.webdriver.remote.webelement.WebElement (session=\"bdf1f50b1fe0fb2d3cc642507b819197\", element=\"4e031fec-2972-493b-b718-563b0d32529b\")>,\n",
       " <selenium.webdriver.remote.webelement.WebElement (session=\"bdf1f50b1fe0fb2d3cc642507b819197\", element=\"02fad180-0cb2-487a-a169-097dc9a82efd\")>,\n",
       " <selenium.webdriver.remote.webelement.WebElement (session=\"bdf1f50b1fe0fb2d3cc642507b819197\", element=\"a8ee9b61-0244-4553-9ccf-95c6cb01e7f3\")>]"
      ]
     },
     "execution_count": 12,
     "metadata": {},
     "output_type": "execute_result"
    }
   ],
   "source": [
    "#extracting all the tags having location\n",
    "location_tags=driver2.find_elements_by_xpath(\"//li[@class='fleft grey-text br2 placeHolderLi location']\")\n",
    "#printing top 10 results\n",
    "location_tags[0:10]"
   ]
  },
  {
   "cell_type": "code",
   "execution_count": 13,
   "id": "073d4ca3",
   "metadata": {},
   "outputs": [
    {
     "data": {
      "text/plain": [
       "['Bangalore/Bengaluru',\n",
       " 'Bangalore/Bengaluru',\n",
       " 'Bangalore/Bengaluru',\n",
       " 'Bengaluru/Bangalore',\n",
       " 'Hyderabad/Secunderabad, Bangalore/Bengaluru, Delhi / NCR',\n",
       " 'Bangalore/Bengaluru',\n",
       " 'Bangalore/Bengaluru',\n",
       " 'Bengaluru/Bangalore',\n",
       " 'Bengaluru/Bangalore',\n",
       " 'Bengaluru/Bangalore']"
      ]
     },
     "execution_count": 13,
     "metadata": {},
     "output_type": "execute_result"
    }
   ],
   "source": [
    "#displaying the tags extracted above into text \n",
    "for i in location_tags:\n",
    "    locations=i.text\n",
    "    job_location.append(locations)\n",
    "job_location[0:10]"
   ]
  },
  {
   "cell_type": "code",
   "execution_count": 14,
   "id": "f477cc44",
   "metadata": {},
   "outputs": [
    {
     "name": "stdout",
     "output_type": "stream",
     "text": [
      "20 20 20\n"
     ]
    }
   ],
   "source": [
    "#printing the length of each list \n",
    "print(len(job_titles),len(company_names),len(job_location))"
   ]
  },
  {
   "cell_type": "code",
   "execution_count": 15,
   "id": "ba396e4c",
   "metadata": {},
   "outputs": [
    {
     "data": {
      "text/html": [
       "<div>\n",
       "<style scoped>\n",
       "    .dataframe tbody tr th:only-of-type {\n",
       "        vertical-align: middle;\n",
       "    }\n",
       "\n",
       "    .dataframe tbody tr th {\n",
       "        vertical-align: top;\n",
       "    }\n",
       "\n",
       "    .dataframe thead th {\n",
       "        text-align: right;\n",
       "    }\n",
       "</style>\n",
       "<table border=\"1\" class=\"dataframe\">\n",
       "  <thead>\n",
       "    <tr style=\"text-align: right;\">\n",
       "      <th></th>\n",
       "      <th>Title</th>\n",
       "      <th>Company</th>\n",
       "      <th>Location</th>\n",
       "    </tr>\n",
       "  </thead>\n",
       "  <tbody>\n",
       "    <tr>\n",
       "      <th>0</th>\n",
       "      <td>Senior Data Scientist Grade12</td>\n",
       "      <td>Flipkart</td>\n",
       "      <td>Bangalore/Bengaluru</td>\n",
       "    </tr>\n",
       "    <tr>\n",
       "      <th>1</th>\n",
       "      <td>Senior Data Scientist Grade12</td>\n",
       "      <td>Flipkart</td>\n",
       "      <td>Bangalore/Bengaluru</td>\n",
       "    </tr>\n",
       "    <tr>\n",
       "      <th>2</th>\n",
       "      <td>Senior Data Scientist</td>\n",
       "      <td>Fractal Analytics</td>\n",
       "      <td>Bangalore/Bengaluru</td>\n",
       "    </tr>\n",
       "    <tr>\n",
       "      <th>3</th>\n",
       "      <td>Data Scientist: Advanced Analytics</td>\n",
       "      <td>IBM</td>\n",
       "      <td>Bengaluru/Bangalore</td>\n",
       "    </tr>\n",
       "    <tr>\n",
       "      <th>4</th>\n",
       "      <td>Data Scientist</td>\n",
       "      <td>Genpact</td>\n",
       "      <td>Hyderabad/Secunderabad, Bangalore/Bengaluru, D...</td>\n",
       "    </tr>\n",
       "    <tr>\n",
       "      <th>5</th>\n",
       "      <td>Data Scientist</td>\n",
       "      <td>VISA</td>\n",
       "      <td>Bangalore/Bengaluru</td>\n",
       "    </tr>\n",
       "    <tr>\n",
       "      <th>6</th>\n",
       "      <td>Data Scientist: Artificial Intelligence</td>\n",
       "      <td>IBM</td>\n",
       "      <td>Bangalore/Bengaluru</td>\n",
       "    </tr>\n",
       "    <tr>\n",
       "      <th>7</th>\n",
       "      <td>Data Scientist: Artificial Intelligence</td>\n",
       "      <td>IBM</td>\n",
       "      <td>Bengaluru/Bangalore</td>\n",
       "    </tr>\n",
       "    <tr>\n",
       "      <th>8</th>\n",
       "      <td>Data Scientist: Artificial Intelligence</td>\n",
       "      <td>IBM</td>\n",
       "      <td>Bengaluru/Bangalore</td>\n",
       "    </tr>\n",
       "    <tr>\n",
       "      <th>9</th>\n",
       "      <td>Data Scientist: Artificial Intelligence</td>\n",
       "      <td>IBM</td>\n",
       "      <td>Bengaluru/Bangalore</td>\n",
       "    </tr>\n",
       "  </tbody>\n",
       "</table>\n",
       "</div>"
      ],
      "text/plain": [
       "                                     Title            Company  \\\n",
       "0            Senior Data Scientist Grade12           Flipkart   \n",
       "1            Senior Data Scientist Grade12           Flipkart   \n",
       "2                    Senior Data Scientist  Fractal Analytics   \n",
       "3       Data Scientist: Advanced Analytics                IBM   \n",
       "4                           Data Scientist            Genpact   \n",
       "5                           Data Scientist               VISA   \n",
       "6  Data Scientist: Artificial Intelligence                IBM   \n",
       "7  Data Scientist: Artificial Intelligence                IBM   \n",
       "8  Data Scientist: Artificial Intelligence                IBM   \n",
       "9  Data Scientist: Artificial Intelligence                IBM   \n",
       "\n",
       "                                            Location  \n",
       "0                                Bangalore/Bengaluru  \n",
       "1                                Bangalore/Bengaluru  \n",
       "2                                Bangalore/Bengaluru  \n",
       "3                                Bengaluru/Bangalore  \n",
       "4  Hyderabad/Secunderabad, Bangalore/Bengaluru, D...  \n",
       "5                                Bangalore/Bengaluru  \n",
       "6                                Bangalore/Bengaluru  \n",
       "7                                Bengaluru/Bangalore  \n",
       "8                                Bengaluru/Bangalore  \n",
       "9                                Bengaluru/Bangalore  "
      ]
     },
     "execution_count": 15,
     "metadata": {},
     "output_type": "execute_result"
    }
   ],
   "source": [
    "#making a dataframe\n",
    "jobs=pd.DataFrame({})\n",
    "jobs['Title']=job_titles\n",
    "jobs['Company']=company_names\n",
    "jobs['Location']=job_location\n",
    "jobs[0:10]"
   ]
  },
  {
   "cell_type": "markdown",
   "id": "32231dd5",
   "metadata": {},
   "source": [
    "# Q3: In this question you have to scrape data using the filters available on the webpage as shown below:"
   ]
  },
  {
   "cell_type": "markdown",
   "id": "525fa346",
   "metadata": {},
   "source": [
    "You have to use the location and salary filter.\n",
    "You have to scrape data for “Data Scientist” designation for first 10 job results.\n",
    "You have to scrape the job-title, job-location, company name, experience required.\n",
    "The location filter to be used is “Delhi/NCR”. The salary filter to be used is “3-6” lakhs"
   ]
  },
  {
   "cell_type": "code",
   "execution_count": 105,
   "id": "cd77a047",
   "metadata": {},
   "outputs": [],
   "source": [
    "#connecting to the webdriver\n",
    "driver3= webdriver.Chrome(r\"C:\\Users\\Asus\\Desktop\\webdriver\\chromedriver.exe\")\n",
    "\n",
    "driver3=webdriver.Chrome(\"chromedriver.exe\")\n",
    "time.sleep(2)\n",
    "\n",
    "#opening nakuri.com website in automated window \n",
    "driver3.get(\"https://www.naukri.com/\")\n",
    "\n",
    "#finding the element for job search - Data Scientist\n",
    "search_feild_designation=driver3.find_element_by_class_name('suggestor-input')\n",
    "search_feild_designation.send_keys('Data Scientist')\n",
    "\n",
    "#entering the location Delhi by finding the Xpath \n",
    "search_feild_location=driver3.find_element_by_xpath('/html/body/div/div[2]/div[3]/div/div/div[3]/div/div/div/input')\n",
    "search_feild_location.send_keys('Delhi')\n",
    "\n",
    "#clicking on the search button to show results\n",
    "search_button=driver3.find_element_by_xpath('/html/body/div/div[2]/div[3]/div/div/div[6]')\n",
    "search_button.click()"
   ]
  },
  {
   "cell_type": "code",
   "execution_count": 106,
   "id": "909888b5",
   "metadata": {},
   "outputs": [],
   "source": [
    "\n",
    "#creating empty lists to scrap the data for first 10 job results\n",
    "job_titles1=[]\n",
    "company_names=[]\n",
    "job_location1=[]\n",
    "experience_required=[]"
   ]
  },
  {
   "cell_type": "code",
   "execution_count": 107,
   "id": "ab8f718b",
   "metadata": {},
   "outputs": [
    {
     "data": {
      "text/plain": [
       "['Data Scientist Opportunity with PayU - Diversity Hiring',\n",
       " 'Data Scientist',\n",
       " 'Assistant Manager/Manager/Senior Manager - Data Scientist',\n",
       " 'Data Scientist (Risk / Fraud Experience is must)',\n",
       " 'Data Scientist',\n",
       " 'Data Scientist - Python/Machine Learning',\n",
       " 'Urgent Hiring For AI Data Scientist',\n",
       " 'Associate Scientist - Data Engineering',\n",
       " 'Data Scientist',\n",
       " 'Data Scientist']"
      ]
     },
     "execution_count": 107,
     "metadata": {},
     "output_type": "execute_result"
    }
   ],
   "source": [
    "#scrapting all the tags having Job-titles\n",
    "title_tags=driver3.find_elements_by_xpath(\"//a[@class='title fw500 ellipsis']\")\n",
    "#printing top 10 results\n",
    "title_tags[0:10]\n",
    "\n",
    "#displaying the tags extracted above into text \n",
    "for i in title_tags:\n",
    "    title=i.text\n",
    "    job_titles1.append(title)\n",
    "job_titles1[0:10]"
   ]
  },
  {
   "cell_type": "code",
   "execution_count": 108,
   "id": "5abade6a",
   "metadata": {},
   "outputs": [
    {
     "data": {
      "text/plain": [
       "['PayU',\n",
       " 'Ashkom Media India Private Limited',\n",
       " 'Huquo Consulting Pvt. Ltd',\n",
       " 'PayU Payments',\n",
       " 'Impetus',\n",
       " 'Corner Tree Consulting',\n",
       " 'Ashkom Media India Private Limited',\n",
       " 'AXA Technology Services India Pvt. Ltd',\n",
       " 'Green Agrevolution Pvt. Ltd. (DeHaat)',\n",
       " 'Capgemini']"
      ]
     },
     "execution_count": 108,
     "metadata": {},
     "output_type": "execute_result"
    }
   ],
   "source": [
    "#extracting all the tags having company names\n",
    "company_tags=driver3.find_elements_by_xpath(\"//a[@class='subTitle ellipsis fleft']\")\n",
    "#printing top 10 results\n",
    "company_tags[0:10]\n",
    "\n",
    "#displaying the tags extracted above into text \n",
    "for i in company_tags:\n",
    "    company_name=i.text\n",
    "    company_names.append(company_name)\n",
    "company_names[0:10]"
   ]
  },
  {
   "cell_type": "code",
   "execution_count": 109,
   "id": "aec57e65",
   "metadata": {},
   "outputs": [
    {
     "data": {
      "text/plain": [
       "['2-7 Yrs',\n",
       " '3-6 Yrs',\n",
       " '2-7 Yrs',\n",
       " '2-5 Yrs',\n",
       " '2-6 Yrs',\n",
       " '10-14 Yrs',\n",
       " '1-4 Yrs',\n",
       " '2-5 Yrs',\n",
       " '4-9 Yrs',\n",
       " '2-5 Yrs']"
      ]
     },
     "execution_count": 109,
     "metadata": {},
     "output_type": "execute_result"
    }
   ],
   "source": [
    "#extracting all the tags having years of experience required\n",
    "experience_tags=driver3.find_elements_by_xpath(\"//li[@class='fleft grey-text br2 placeHolderLi experience']\")\n",
    "#printing top 10 results\n",
    "experience_tags[0:10]\n",
    "\n",
    "#displaying the tags extracted above into text \n",
    "for i in experience_tags:\n",
    "    experience=i.text\n",
    "    experience_required.append(experience)\n",
    "experience_required[0:10]"
   ]
  },
  {
   "cell_type": "code",
   "execution_count": 110,
   "id": "f50bb371",
   "metadata": {},
   "outputs": [
    {
     "data": {
      "text/plain": [
       "['Gurgaon/Gurugram, Bangalore/Bengaluru, Mumbai (All Areas)',\n",
       " 'Noida, Bangalore/Bengaluru',\n",
       " 'Gurgaon/Gurugram, Bangalore/Bengaluru',\n",
       " 'Gurgaon/Gurugram',\n",
       " 'Gurgaon/Gurugram',\n",
       " 'Mumbai, Pune, Chennai, Bangalore/Bengaluru, Delhi / NCR',\n",
       " 'New Delhi, Bangalore/Bengaluru, Mumbai (All Areas)\\n(WFH during Covid)',\n",
       " 'Gurgaon/Gurugram',\n",
       " 'Gurgaon/Gurugram, Bangalore/Bengaluru',\n",
       " 'Gurgaon/Gurugram']"
      ]
     },
     "execution_count": 110,
     "metadata": {},
     "output_type": "execute_result"
    }
   ],
   "source": [
    "#extracting all the tags having location\n",
    "location_tags=driver3.find_elements_by_xpath(\"//li[@class='fleft grey-text br2 placeHolderLi location']\")\n",
    "#printing top 10 results\n",
    "location_tags[0:10]\n",
    "\n",
    "#displaying the tags extracted above into text \n",
    "for i in location_tags:\n",
    "    locations=i.text\n",
    "    job_location1.append(locations)\n",
    "job_location1[0:10]"
   ]
  },
  {
   "cell_type": "code",
   "execution_count": 111,
   "id": "92ef9e8f",
   "metadata": {},
   "outputs": [
    {
     "name": "stdout",
     "output_type": "stream",
     "text": [
      "20 20 20 20\n"
     ]
    }
   ],
   "source": [
    "#printing the length of each list \n",
    "print(len(job_titles1),len(company_names),len(experience_required),len(job_location1))"
   ]
  },
  {
   "cell_type": "code",
   "execution_count": 112,
   "id": "4c6b936f",
   "metadata": {},
   "outputs": [
    {
     "data": {
      "text/html": [
       "<div>\n",
       "<style scoped>\n",
       "    .dataframe tbody tr th:only-of-type {\n",
       "        vertical-align: middle;\n",
       "    }\n",
       "\n",
       "    .dataframe tbody tr th {\n",
       "        vertical-align: top;\n",
       "    }\n",
       "\n",
       "    .dataframe thead th {\n",
       "        text-align: right;\n",
       "    }\n",
       "</style>\n",
       "<table border=\"1\" class=\"dataframe\">\n",
       "  <thead>\n",
       "    <tr style=\"text-align: right;\">\n",
       "      <th></th>\n",
       "      <th>Title</th>\n",
       "      <th>Company</th>\n",
       "      <th>Experience Required</th>\n",
       "      <th>Location</th>\n",
       "    </tr>\n",
       "  </thead>\n",
       "  <tbody>\n",
       "    <tr>\n",
       "      <th>0</th>\n",
       "      <td>Data Scientist Opportunity with PayU - Diversi...</td>\n",
       "      <td>PayU</td>\n",
       "      <td>2-7 Yrs</td>\n",
       "      <td>Gurgaon/Gurugram, Bangalore/Bengaluru, Mumbai ...</td>\n",
       "    </tr>\n",
       "    <tr>\n",
       "      <th>1</th>\n",
       "      <td>Data Scientist</td>\n",
       "      <td>Ashkom Media India Private Limited</td>\n",
       "      <td>3-6 Yrs</td>\n",
       "      <td>Noida, Bangalore/Bengaluru</td>\n",
       "    </tr>\n",
       "    <tr>\n",
       "      <th>2</th>\n",
       "      <td>Assistant Manager/Manager/Senior Manager - Dat...</td>\n",
       "      <td>Huquo Consulting Pvt. Ltd</td>\n",
       "      <td>2-7 Yrs</td>\n",
       "      <td>Gurgaon/Gurugram, Bangalore/Bengaluru</td>\n",
       "    </tr>\n",
       "    <tr>\n",
       "      <th>3</th>\n",
       "      <td>Data Scientist (Risk / Fraud Experience is must)</td>\n",
       "      <td>PayU Payments</td>\n",
       "      <td>2-5 Yrs</td>\n",
       "      <td>Gurgaon/Gurugram</td>\n",
       "    </tr>\n",
       "    <tr>\n",
       "      <th>4</th>\n",
       "      <td>Data Scientist</td>\n",
       "      <td>Impetus</td>\n",
       "      <td>2-6 Yrs</td>\n",
       "      <td>Gurgaon/Gurugram</td>\n",
       "    </tr>\n",
       "    <tr>\n",
       "      <th>5</th>\n",
       "      <td>Data Scientist - Python/Machine Learning</td>\n",
       "      <td>Corner Tree Consulting</td>\n",
       "      <td>10-14 Yrs</td>\n",
       "      <td>Mumbai, Pune, Chennai, Bangalore/Bengaluru, De...</td>\n",
       "    </tr>\n",
       "    <tr>\n",
       "      <th>6</th>\n",
       "      <td>Urgent Hiring For AI Data Scientist</td>\n",
       "      <td>Ashkom Media India Private Limited</td>\n",
       "      <td>1-4 Yrs</td>\n",
       "      <td>New Delhi, Bangalore/Bengaluru, Mumbai (All Ar...</td>\n",
       "    </tr>\n",
       "    <tr>\n",
       "      <th>7</th>\n",
       "      <td>Associate Scientist - Data Engineering</td>\n",
       "      <td>AXA Technology Services India Pvt. Ltd</td>\n",
       "      <td>2-5 Yrs</td>\n",
       "      <td>Gurgaon/Gurugram</td>\n",
       "    </tr>\n",
       "    <tr>\n",
       "      <th>8</th>\n",
       "      <td>Data Scientist</td>\n",
       "      <td>Green Agrevolution Pvt. Ltd. (DeHaat)</td>\n",
       "      <td>4-9 Yrs</td>\n",
       "      <td>Gurgaon/Gurugram, Bangalore/Bengaluru</td>\n",
       "    </tr>\n",
       "    <tr>\n",
       "      <th>9</th>\n",
       "      <td>Data Scientist</td>\n",
       "      <td>Capgemini</td>\n",
       "      <td>2-5 Yrs</td>\n",
       "      <td>Gurgaon/Gurugram</td>\n",
       "    </tr>\n",
       "  </tbody>\n",
       "</table>\n",
       "</div>"
      ],
      "text/plain": [
       "                                               Title  \\\n",
       "0  Data Scientist Opportunity with PayU - Diversi...   \n",
       "1                                     Data Scientist   \n",
       "2  Assistant Manager/Manager/Senior Manager - Dat...   \n",
       "3   Data Scientist (Risk / Fraud Experience is must)   \n",
       "4                                     Data Scientist   \n",
       "5           Data Scientist - Python/Machine Learning   \n",
       "6                Urgent Hiring For AI Data Scientist   \n",
       "7             Associate Scientist - Data Engineering   \n",
       "8                                     Data Scientist   \n",
       "9                                     Data Scientist   \n",
       "\n",
       "                                  Company Experience Required  \\\n",
       "0                                    PayU             2-7 Yrs   \n",
       "1      Ashkom Media India Private Limited             3-6 Yrs   \n",
       "2               Huquo Consulting Pvt. Ltd             2-7 Yrs   \n",
       "3                           PayU Payments             2-5 Yrs   \n",
       "4                                 Impetus             2-6 Yrs   \n",
       "5                  Corner Tree Consulting           10-14 Yrs   \n",
       "6      Ashkom Media India Private Limited             1-4 Yrs   \n",
       "7  AXA Technology Services India Pvt. Ltd             2-5 Yrs   \n",
       "8   Green Agrevolution Pvt. Ltd. (DeHaat)             4-9 Yrs   \n",
       "9                               Capgemini             2-5 Yrs   \n",
       "\n",
       "                                            Location  \n",
       "0  Gurgaon/Gurugram, Bangalore/Bengaluru, Mumbai ...  \n",
       "1                         Noida, Bangalore/Bengaluru  \n",
       "2              Gurgaon/Gurugram, Bangalore/Bengaluru  \n",
       "3                                   Gurgaon/Gurugram  \n",
       "4                                   Gurgaon/Gurugram  \n",
       "5  Mumbai, Pune, Chennai, Bangalore/Bengaluru, De...  \n",
       "6  New Delhi, Bangalore/Bengaluru, Mumbai (All Ar...  \n",
       "7                                   Gurgaon/Gurugram  \n",
       "8              Gurgaon/Gurugram, Bangalore/Bengaluru  \n",
       "9                                   Gurgaon/Gurugram  "
      ]
     },
     "execution_count": 112,
     "metadata": {},
     "output_type": "execute_result"
    }
   ],
   "source": [
    "#importing pandas to make a dataframe\n",
    "jobs=pd.DataFrame({})\n",
    "jobs['Title']=job_titles1\n",
    "jobs['Company']=company_names\n",
    "jobs['Experience Required']=experience_required\n",
    "jobs['Location']=job_location1\n",
    "\n",
    "jobs[0:10]"
   ]
  },
  {
   "cell_type": "markdown",
   "id": "15054e87",
   "metadata": {},
   "source": [
    "# Q4: Scrape data of first 100 sunglasses listings on flipkart.com. You have to scrape four attributes:\n",
    "1. Brand\n",
    "2. Product Description\n",
    "3. Price"
   ]
  },
  {
   "cell_type": "code",
   "execution_count": 16,
   "id": "79a21bbc",
   "metadata": {},
   "outputs": [],
   "source": [
    "#connecting to webdriver\n",
    "driver4= webdriver.Chrome(r\"C:\\Users\\Asus\\Desktop\\webdriver\\chromedriver.exe\")\n",
    "\n",
    "driver4=webdriver.Chrome(\"chromedriver.exe\")\n",
    "time.sleep(2)\n",
    "\n",
    "#opening nakuri.com website in automated window \n",
    "driver4.get(\"https://www.flipkart.com/\")"
   ]
  },
  {
   "cell_type": "code",
   "execution_count": 17,
   "id": "ee839860",
   "metadata": {},
   "outputs": [],
   "source": [
    "#finding the element for product \"Sunglass\" \n",
    "search_feild_product_name=driver4.find_element_by_class_name('_3704LK')\n",
    "search_feild_product_name.send_keys('Sunglasses')\n",
    "\n",
    "#clicking on the search button to show results for 100 products\n",
    "search_button=driver4.find_element_by_class_name('L0Z3Pu')\n",
    "search_button.click()\n",
    "\n"
   ]
  },
  {
   "cell_type": "code",
   "execution_count": 18,
   "id": "11b629ac",
   "metadata": {},
   "outputs": [
    {
     "data": {
      "text/plain": [
       "['VINCENT CHASE',\n",
       " 'VINCENT CHASE',\n",
       " 'Fastrack',\n",
       " 'SUNBEE',\n",
       " 'PIRASO',\n",
       " 'Lee Topper',\n",
       " 'PIRASO',\n",
       " 'VINCENT CHASE',\n",
       " 'SHAAH COLLECTIONS',\n",
       " 'Fastrack',\n",
       " 'Elligator',\n",
       " 'VINCENT CHASE',\n",
       " 'SRPM',\n",
       " 'PIRASO',\n",
       " 'PIRASO',\n",
       " 'VINCENT CHASE',\n",
       " 'Fastrack',\n",
       " 'DAHAAZIL',\n",
       " 'SUNBEE',\n",
       " 'Roadster',\n",
       " 'Fastrack',\n",
       " 'kingsunglasses',\n",
       " 'ROZZETTA CRAFT',\n",
       " 'Resist',\n",
       " 'New Specs',\n",
       " 'DEIXELS',\n",
       " 'PIRASO',\n",
       " 'VINCENT CHASE',\n",
       " 'ROZZETTA CRAFT',\n",
       " 'Mi',\n",
       " 'Fastrack',\n",
       " 'Roadster',\n",
       " 'Lee Topper',\n",
       " 'hipe',\n",
       " 'HIPPON',\n",
       " 'Roadster',\n",
       " 'Mi',\n",
       " 'ROZZETTA CRAFT',\n",
       " 'ROZZETTA CRAFT',\n",
       " 'NuVew']"
      ]
     },
     "execution_count": 18,
     "metadata": {},
     "output_type": "execute_result"
    }
   ],
   "source": [
    "#creating empty lists to scrap data for 100 products\n",
    "brand_name=[]\n",
    "product_description=[]\n",
    "price=[]\n",
    "\n",
    "#scrapting all the tags having Brand names\n",
    "brand_tags=driver4.find_elements_by_class_name(\"_2WkVRV\")\n",
    "\n",
    "#displaying the tags extracted above into text \n",
    "for i in brand_tags:\n",
    "    brands=i.text\n",
    "    brand_name.append(brands)\n",
    "brand_name[0:40]"
   ]
  },
  {
   "cell_type": "code",
   "execution_count": 19,
   "id": "27d518b6",
   "metadata": {},
   "outputs": [],
   "source": [
    "#to display the next 40 results in the next page\n",
    "next_page=driver4.find_element_by_xpath('/html/body/div[1]/div/div[3]/div[1]/div[2]/div[12]/div/div/nav/a[11]/span')\n",
    "next_page.click()"
   ]
  },
  {
   "cell_type": "code",
   "execution_count": 20,
   "id": "301e0b99",
   "metadata": {},
   "outputs": [
    {
     "data": {
      "text/plain": [
       "['ROZZETTA CRAFT',\n",
       " 'ROZZETTA CRAFT',\n",
       " 'SRPM',\n",
       " 'BAJERO',\n",
       " 'Mi',\n",
       " 'Fastrack',\n",
       " 'PIRASO',\n",
       " 'ZOSTAL',\n",
       " 'Fastrack',\n",
       " 'Silver Kartz',\n",
       " 'United Colors of Benetton',\n",
       " 'AISLIN',\n",
       " 'Elligator',\n",
       " 'Fastrack',\n",
       " 'kingsunglasses',\n",
       " 'AISLIN',\n",
       " 'PIRASO',\n",
       " 'kingscape',\n",
       " 'New Specs',\n",
       " 'ROZZETTA CRAFT',\n",
       " 'New Specs',\n",
       " 'New Specs',\n",
       " 'Rich Club',\n",
       " 'NuVew',\n",
       " 'AISLIN',\n",
       " 'Lee Topper',\n",
       " 'Poloport',\n",
       " 'VINCENT CHASE',\n",
       " 'kingsunglasses',\n",
       " 'AISLIN',\n",
       " 'kingsunglasses',\n",
       " 'NuVew',\n",
       " 'Fastrack',\n",
       " 'Fastrack',\n",
       " 'PIRASO',\n",
       " 'NuVew',\n",
       " 'VINCENT CHASE',\n",
       " 'New Specs',\n",
       " 'hipe',\n",
       " 'NuVew']"
      ]
     },
     "execution_count": 20,
     "metadata": {},
     "output_type": "execute_result"
    }
   ],
   "source": [
    "brand=[]\n",
    "#scrapting all the tags having Brand names from page 2\n",
    "brand_tags2=driver4.find_elements_by_class_name(\"_2WkVRV\")\n",
    "\n",
    "#displaying the tags extracted above into text \n",
    "for i in brand_tags2:\n",
    "    brands=i.text\n",
    "    brand.append(brands)\n",
    "brand[0:40]"
   ]
  },
  {
   "cell_type": "code",
   "execution_count": 24,
   "id": "023a9f3b",
   "metadata": {},
   "outputs": [],
   "source": [
    "#to display the next 20 results in the next page\n",
    "next_page2=driver4.find_element_by_xpath('/html/body/div[1]/div/div[3]/div[1]/div[2]/div[12]/div/div/nav/a[12]/span')\n",
    "next_page2.click()"
   ]
  },
  {
   "cell_type": "code",
   "execution_count": 25,
   "id": "2cfae7fe",
   "metadata": {},
   "outputs": [
    {
     "data": {
      "text/plain": [
       "['Fastrack',\n",
       " 'PHENOMENAL',\n",
       " 'kingsunglasses',\n",
       " 'NuVew',\n",
       " 'Singco India',\n",
       " 'Fastrack',\n",
       " 'Fastrack',\n",
       " 'ROZZETTA CRAFT',\n",
       " 'SHAAH COLLECTIONS',\n",
       " 'NuVew',\n",
       " 'CRYSTAL CART',\n",
       " 'NuVew',\n",
       " 'Elligator',\n",
       " 'VINCENT CHASE',\n",
       " 'Elligator',\n",
       " 'AISLIN',\n",
       " 'GANSTA',\n",
       " 'ROZZETTA CRAFT',\n",
       " 'Elligator',\n",
       " 'VINCENT CHASE']"
      ]
     },
     "execution_count": 25,
     "metadata": {},
     "output_type": "execute_result"
    }
   ],
   "source": [
    "#creating a list to display the results on the 3rd page\n",
    "brand_name2=[]\n",
    "\n",
    "#scrapting all the tags having Brand names from page 3\n",
    "brand_tags3=driver4.find_elements_by_class_name(\"_2WkVRV\")\n",
    "\n",
    "#displaying the tags extracted above into text \n",
    "for i in brand_tags3:\n",
    "    brand2=i.text\n",
    "    brand_name2.append(brand2)\n",
    "brand_name2[0:20]"
   ]
  },
  {
   "cell_type": "code",
   "execution_count": 23,
   "id": "e85ce732",
   "metadata": {},
   "outputs": [
    {
     "data": {
      "text/plain": [
       "['UV Protection Wayfarer Sunglasses (52)',\n",
       " 'Riding Glasses, UV Protection, Others Aviator Sunglasse...',\n",
       " 'UV Protection Wayfarer Sunglasses (Free Size)',\n",
       " 'UV Protection, Gradient Wayfarer Sunglasses (55)',\n",
       " 'Riding Glasses, UV Protection Clubmaster, Wayfarer Sung...',\n",
       " 'UV Protection Aviator Sunglasses (62)',\n",
       " 'Mirrored Aviator Sunglasses (Free Size)',\n",
       " 'Toughened Glass Lens, UV Protection Wayfarer, Rectangul...',\n",
       " 'UV Protection, Mirrored, Gradient Round Sunglasses (51)',\n",
       " 'by Lenskart Polarized, UV Protection Wayfarer Sunglasse...',\n",
       " 'UV Protection Retro Square Sunglasses (Free Size)',\n",
       " 'UV Protection, Mirrored Retro Square Sunglasses (53)',\n",
       " 'UV Protection, Gradient Round Sunglasses (Free Size)',\n",
       " 'Polarized, Riding Glasses, Night Vision Sports, Wrap-ar...',\n",
       " 'UV Protection, Gradient Rectangular Sunglasses (Free Si...',\n",
       " 'UV Protection, Riding Glasses Rectangular, Retro Square...',\n",
       " 'UV Protection Sports Sunglasses (62)',\n",
       " 'Mirrored, UV Protection Round Sunglasses (57)',\n",
       " 'Polarized, UV Protection Retro Square Sunglasses (Free ...',\n",
       " 'Mirrored Wayfarer Sunglasses (55)',\n",
       " 'UV Protection Aviator Sunglasses (57)',\n",
       " 'UV Protection Wayfarer Sunglasses (55)',\n",
       " 'UV Protection, Mirrored Clubmaster Sunglasses (Free Siz...',\n",
       " 'Mirrored, UV Protection Wayfarer Sunglasses (Free Size)',\n",
       " 'Gradient, Toughened Glass Lens, UV Protection Retro Squ...',\n",
       " 'UV Protection Aviator Sunglasses (58)',\n",
       " 'UV Protection Shield Sunglasses (Free Size)',\n",
       " 'UV Protection, Polarized, Mirrored Rectangular Sunglass...',\n",
       " 'UV Protection, Mirrored Sports Sunglasses (62)',\n",
       " 'Mirrored, Night Vision Oval Sunglasses (Free Size)',\n",
       " 'UV Protection Wayfarer Sunglasses (53)',\n",
       " 'by Lenskart Polarized, UV Protection Cat-eye Sunglasses...',\n",
       " 'UV Protection Retro Square, Round Sunglasses (54)',\n",
       " 'UV Protection, Riding Glasses Wayfarer Sunglasses (53)',\n",
       " 'UV Protection, Gradient Round Sunglasses (Free Size)',\n",
       " 'UV Protection Round Sunglasses (53)',\n",
       " 'UV Protection, Mirrored Sports Sunglasses (Free Size)',\n",
       " 'UV Protection Oval Sunglasses (57)',\n",
       " 'UV Protection, Mirrored Sports Sunglasses (62)',\n",
       " 'Polarized, Riding Glasses, Night Vision Sports, Wrap-ar...']"
      ]
     },
     "execution_count": 23,
     "metadata": {},
     "output_type": "execute_result"
    }
   ],
   "source": [
    "#scrapting all the tags having product description\n",
    "product_tags=driver4.find_elements_by_class_name(\"IRpwTa\")\n",
    "product_tags[0:40]\n",
    "#displaying 40 tags extracted above into text \n",
    "for i in product_tags:\n",
    "    products=i.text\n",
    "    product_description.append(products)\n",
    "product_description[0:40]"
   ]
  },
  {
   "cell_type": "code",
   "execution_count": 26,
   "id": "fcb2c456",
   "metadata": {},
   "outputs": [],
   "source": [
    "#to display the next 40 results in the next page\n",
    "next_page3=driver4.find_element_by_xpath('/html/body/div[1]/div/div[3]/div[1]/div[2]/div[12]/div/div/nav/a[12]/span')\n",
    "next_page3.click()"
   ]
  },
  {
   "cell_type": "code",
   "execution_count": 27,
   "id": "c3b4b2f2",
   "metadata": {},
   "outputs": [
    {
     "data": {
      "text/plain": [
       "['Others Retro Square Sunglasses (Free Size)',\n",
       " 'UV Protection, Riding Glasses, Others Aviator, Wayfarer...',\n",
       " 'Polarized Retro Square Sunglasses (61)',\n",
       " 'Riding Glasses, UV Protection, Mirrored Aviator Sunglas...',\n",
       " 'UV Protection Round Sunglasses (50)',\n",
       " 'Others Oval Sunglasses (Free Size)',\n",
       " 'UV Protection, Riding Glasses Rectangular Sunglasses (F...',\n",
       " 'Mirrored, UV Protection, Riding Glasses Aviator Sunglas...',\n",
       " 'Mirrored, UV Protection Wayfarer Sunglasses (53)',\n",
       " 'UV Protection Aviator Sunglasses (55)',\n",
       " 'Polarized Retro Square Sunglasses (Free Size)',\n",
       " 'Toughened Glass Lens, UV Protection Aviator Sunglasses ...',\n",
       " 'UV Protection Wayfarer Sunglasses (Free Size)',\n",
       " 'UV Protection, Gradient Oval Sunglasses (58)',\n",
       " 'UV Protection Wayfarer Sunglasses (Free Size)',\n",
       " 'UV Protection Shield, Wayfarer Sunglasses (61)',\n",
       " 'UV Protection Round Sunglasses (Free Size)',\n",
       " 'Gradient Aviator Sunglasses (55)',\n",
       " 'UV Protection, Gradient Cat-eye Sunglasses (61)',\n",
       " 'Toughened Glass Lens, UV Protection Aviator Sunglasses ...',\n",
       " 'UV Protection Rectangular Sunglasses (56)',\n",
       " 'UV Protection, Night Vision Wayfarer Sunglasses (Free S...',\n",
       " 'UV Protection, Polarized, Mirrored Round Sunglasses (Fr...',\n",
       " 'UV Protection Wayfarer Sunglasses (55)',\n",
       " 'UV Protection Oval Sunglasses (56)',\n",
       " 'UV Protection, Polarized, Mirrored Wayfarer Sunglasses ...',\n",
       " 'Mirrored, UV Protection Aviator Sunglasses (58)',\n",
       " 'Toughened Glass Lens, UV Protection Rectangular, Wayfar...',\n",
       " 'UV Protection Over-sized Sunglasses (64)',\n",
       " 'UV Protection Round Sunglasses (Free Size)',\n",
       " 'by Lenskart Polarized, UV Protection Rectangular Sungla...',\n",
       " 'UV Protection, Gradient Wayfarer, Round Sunglasses (63)',\n",
       " 'UV Protection Butterfly Sunglasses (60)',\n",
       " 'UV Protection Round Sunglasses (Free Size)',\n",
       " 'Mirrored, UV Protection Aviator Sunglasses (56)',\n",
       " 'Toughened Glass Lens, UV Protection Aviator, Wrap-aroun...',\n",
       " 'UV Protection Wayfarer Sunglasses (Free Size)',\n",
       " 'UV Protection, Gradient Butterfly, Over-sized Sunglasse...',\n",
       " 'by Lenskart UV Protection Rectangular Sunglasses (54)',\n",
       " 'UV Protection, Mirrored Aviator Sunglasses (58)']"
      ]
     },
     "execution_count": 27,
     "metadata": {},
     "output_type": "execute_result"
    }
   ],
   "source": [
    "Product_description1=[]\n",
    "#scrapting all the tags having product description\n",
    "product_tags1=driver4.find_elements_by_class_name(\"IRpwTa\")\n",
    "product_tags1[0:40]\n",
    "#displaying 40 tags extracted above into text \n",
    "for i in product_tags1:\n",
    "    productss=i.text\n",
    "    Product_description1.append(productss)\n",
    "Product_description1[0:40]"
   ]
  },
  {
   "cell_type": "code",
   "execution_count": 28,
   "id": "5681d68d",
   "metadata": {},
   "outputs": [],
   "source": [
    "#to display the next 40 results in the next page\n",
    "next_page3=driver4.find_element_by_xpath('/html/body/div[1]/div/div[3]/div[1]/div[2]/div[12]/div/div/nav/a[12]/span')\n",
    "next_page3.click()"
   ]
  },
  {
   "cell_type": "code",
   "execution_count": 29,
   "id": "a3d981ad",
   "metadata": {},
   "outputs": [
    {
     "data": {
      "text/plain": [
       "['Others Retro Square Sunglasses (Free Size)',\n",
       " 'UV Protection, Riding Glasses, Others Aviator, Wayfarer...',\n",
       " 'Polarized Retro Square Sunglasses (61)',\n",
       " 'Riding Glasses, UV Protection, Mirrored Aviator Sunglas...',\n",
       " 'UV Protection Round Sunglasses (50)',\n",
       " 'Others Oval Sunglasses (Free Size)',\n",
       " 'UV Protection, Riding Glasses Rectangular Sunglasses (F...',\n",
       " 'Mirrored, UV Protection, Riding Glasses Aviator Sunglas...',\n",
       " 'Mirrored, UV Protection Wayfarer Sunglasses (53)',\n",
       " 'UV Protection Aviator Sunglasses (55)',\n",
       " 'Polarized Retro Square Sunglasses (Free Size)',\n",
       " 'Toughened Glass Lens, UV Protection Aviator Sunglasses ...',\n",
       " 'UV Protection Wayfarer Sunglasses (Free Size)',\n",
       " 'UV Protection, Gradient Oval Sunglasses (58)',\n",
       " 'UV Protection Wayfarer Sunglasses (Free Size)',\n",
       " 'UV Protection Shield, Wayfarer Sunglasses (61)',\n",
       " 'UV Protection Round Sunglasses (Free Size)',\n",
       " 'Gradient Aviator Sunglasses (55)',\n",
       " 'UV Protection, Gradient Cat-eye Sunglasses (61)',\n",
       " 'Toughened Glass Lens, UV Protection Aviator Sunglasses ...']"
      ]
     },
     "execution_count": 29,
     "metadata": {},
     "output_type": "execute_result"
    }
   ],
   "source": [
    "Product_description2=[]\n",
    "#scrapting all the tags having product description\n",
    "product_tags2=driver4.find_elements_by_class_name(\"IRpwTa\")\n",
    "product_tags2[0:20]\n",
    "#displaying 40 tags extracted above into text \n",
    "for i in product_tags2:\n",
    "    productsss=i.text\n",
    "    Product_description1.append(productsss)\n",
    "Product_description1[0:20]"
   ]
  },
  {
   "cell_type": "code",
   "execution_count": 31,
   "id": "b7fb443e",
   "metadata": {},
   "outputs": [
    {
     "data": {
      "text/plain": [
       "['₹649',\n",
       " '₹649',\n",
       " '₹719',\n",
       " '₹283',\n",
       " '₹639',\n",
       " '₹249',\n",
       " '₹299',\n",
       " '₹779',\n",
       " '₹265',\n",
       " '₹195',\n",
       " '₹809',\n",
       " '₹649',\n",
       " '₹295',\n",
       " '₹225',\n",
       " '₹639',\n",
       " '₹649',\n",
       " '₹249',\n",
       " '₹280',\n",
       " '₹224',\n",
       " '₹649',\n",
       " '₹219',\n",
       " '₹259',\n",
       " '₹719',\n",
       " '₹275',\n",
       " '₹224',\n",
       " '₹209',\n",
       " '₹299',\n",
       " '₹649',\n",
       " '₹229',\n",
       " '₹399',\n",
       " '₹208',\n",
       " '₹948',\n",
       " '₹1,099',\n",
       " '₹219',\n",
       " '₹499',\n",
       " '₹649',\n",
       " '₹1,009',\n",
       " '₹181',\n",
       " '₹849',\n",
       " '₹649']"
      ]
     },
     "execution_count": 31,
     "metadata": {},
     "output_type": "execute_result"
    }
   ],
   "source": [
    "#scrapting all the tags having price\n",
    "price_tags=driver4.find_elements_by_class_name(\"_30jeq3\")\n",
    "price_tags[0:40]\n",
    "#displaying 40 tags extracted above into text \n",
    "for i in price_tags:\n",
    "    prce=i.text\n",
    "    price.append(prce)\n",
    "price[0:40]"
   ]
  },
  {
   "cell_type": "code",
   "execution_count": 32,
   "id": "84fefa63",
   "metadata": {},
   "outputs": [],
   "source": [
    "#to display the next 40 results in the next page\n",
    "Next_page3=driver4.find_element_by_xpath('/html/body/div[1]/div/div[3]/div[1]/div[2]/div[12]/div/div/nav/a[11]/span')\n",
    "Next_page3.click()"
   ]
  },
  {
   "cell_type": "code",
   "execution_count": 33,
   "id": "003bfc4c",
   "metadata": {},
   "outputs": [
    {
     "data": {
      "text/plain": [
       "['₹499',\n",
       " '₹246',\n",
       " '₹1,009',\n",
       " '₹1,273',\n",
       " '₹639',\n",
       " '₹349',\n",
       " '₹719',\n",
       " '₹498',\n",
       " '₹288',\n",
       " '₹1,069',\n",
       " '₹333',\n",
       " '₹198',\n",
       " '₹639',\n",
       " '₹214',\n",
       " '₹349',\n",
       " '₹216',\n",
       " '₹169',\n",
       " '₹264',\n",
       " '₹214',\n",
       " '₹498',\n",
       " '₹299',\n",
       " '₹260',\n",
       " '₹498',\n",
       " '₹649',\n",
       " '₹276',\n",
       " '₹279',\n",
       " '₹189',\n",
       " '₹649',\n",
       " '₹498',\n",
       " '₹329',\n",
       " '₹639',\n",
       " '₹649',\n",
       " '₹639',\n",
       " '₹410',\n",
       " '₹649',\n",
       " '₹472',\n",
       " '₹189',\n",
       " '₹179',\n",
       " '₹629',\n",
       " '₹246']"
      ]
     },
     "execution_count": 33,
     "metadata": {},
     "output_type": "execute_result"
    }
   ],
   "source": [
    "#creating a list\n",
    "price2=[]\n",
    "#scrapting all the tags having price in page 2\n",
    "price_tags2=driver4.find_elements_by_class_name(\"_30jeq3\")\n",
    "price_tags2[0:40]\n",
    "#displaying 40 tags extracted above into text \n",
    "for i in price_tags2:\n",
    "    prce1=i.text\n",
    "    price2.append(prce1)\n",
    "price2[0:40]"
   ]
  },
  {
   "cell_type": "code",
   "execution_count": 34,
   "id": "84f7b4a1",
   "metadata": {},
   "outputs": [],
   "source": [
    "#to display the next 20 results in the next page\n",
    "Next_page4=driver4.find_element_by_xpath('/html/body/div[1]/div/div[3]/div[1]/div[2]/div[12]/div/div/nav/a[12]/span')\n",
    "Next_page4.click()"
   ]
  },
  {
   "cell_type": "code",
   "execution_count": 35,
   "id": "f62887c9",
   "metadata": {},
   "outputs": [
    {
     "data": {
      "text/plain": [
       "['₹245',\n",
       " '₹629',\n",
       " '₹229',\n",
       " '₹345',\n",
       " '₹329',\n",
       " '₹649',\n",
       " '₹399',\n",
       " '₹345',\n",
       " '₹775',\n",
       " '₹223',\n",
       " '₹749',\n",
       " '₹449',\n",
       " '₹361',\n",
       " '₹353',\n",
       " '₹419',\n",
       " '₹395',\n",
       " '₹499',\n",
       " '₹449',\n",
       " '₹358',\n",
       " '₹499']"
      ]
     },
     "execution_count": 35,
     "metadata": {},
     "output_type": "execute_result"
    }
   ],
   "source": [
    "#creating a list\n",
    "price3=[]\n",
    "#scrapting all the tags having price in page 2\n",
    "price_tags3=driver4.find_elements_by_class_name(\"_30jeq3\")\n",
    "price_tags2[0:20]\n",
    "#displaying 40 tags extracted above into text \n",
    "for i in price_tags3:\n",
    "    prce2=i.text\n",
    "    price3.append(prce2)\n",
    "price3[0:20]"
   ]
  },
  {
   "cell_type": "markdown",
   "id": "8d558223",
   "metadata": {},
   "source": [
    "# Q5: Scrape 100 reviews data from flipkart.com for iphone11 phone. You have to go the link:\n",
    "https://www.flipkart.com/apple-iphone-11-black-64-gb-includes- earpods-power\u0002adapter/p/itm0f37c2240b217?pid=MOBFKCTSVZAXUHGR&lid=LSTMOBFKC\n",
    "TSVZAXUHGREPBFGI&marketplace.\n",
    "When you will open the above link you will reach to the below shown webpage "
   ]
  },
  {
   "cell_type": "code",
   "execution_count": null,
   "id": "d81530d8",
   "metadata": {},
   "outputs": [],
   "source": [
    "#connecting to the webdriver\n",
    "driver5= webdriver.Chrome(r\"C:\\Users\\Asus\\Desktop\\webdriver\\chromedriver.exe\")\n",
    "\n",
    "driver5=webdriver.Chrome(\"chromedriver.exe\")\n",
    "time.sleep(2)\n",
    "\n",
    "#opening flipkart.com website in automated window \n",
    "driver5.get('https://www.flipkart.com/apple-iphone-11-black-128-gb/p/itm8244e8d955aba?pid=MOBFWQ6BKRYBP5X8&lid=LSTMOBFWQ6BKRYBP5X8X0KYUG&marketplace=FLIPKART&q=iphone11&store=tyy%2F4io&srno=s_1_1&otracker=search&otracker1=search&fm=organic&iid=d0d5a83b-a3f8-4fb8-806c-2380e7b6cc32.MOBFWQ6BKRYBP5X8.SEARCH&ppt=hp&ppn=homepage&ssid=jnh5ce805c0000001651924450478&qH=d6db477051465f9a')"
   ]
  },
  {
   "cell_type": "code",
   "execution_count": 115,
   "id": "6680747e",
   "metadata": {},
   "outputs": [],
   "source": [
    "#to display reviews and ratings\n",
    "Press=driver5.find_element_by_xpath('/html/body/div[1]/div/div[3]/div[1]/div[2]/div[2]/div/div[2]/div/div/span[2]')\n",
    "Press.click()"
   ]
  },
  {
   "cell_type": "code",
   "execution_count": 131,
   "id": "2a621545",
   "metadata": {},
   "outputs": [
    {
     "data": {
      "text/plain": [
       "['The Best Phone for the Money\\n\\nThe iPhone 11 offers superb cameras, a more durable design and excellent battery life for an affordable price.\\n\\nCompelling ultra-wide camera\\nNew Night mode is excellent\\nLong battery life',\n",
       " 'Really satisfied with the Product I received... It’s totally genuine and the packaging was also really good so if ur planning to buy just go for it.',\n",
       " 'Great iPhone very snappy experience as apple kind. Upgraded from iPhone 7.\\nPros\\n-Camera top class\\n- Battery top performed\\n-Chipset no need to say as apple kind\\n-Security as you expect from apple\\n- Display super bright industry leading colour\\naccuracy and super responsive\\n-Build quality as expect from apple sturdy\\npremium durable beautiful stylish.\\n-Os most stable os in smartphone industry\\n\\nCons\\n-No 5G\\n-Display is not based on OLED technology\\n-Charger headphones and 1 apple stic...\\nREAD MORE',\n",
       " 'Amazing phone with great cameras and better battery which gives you the best performance. I just love the camera .',\n",
       " 'This is my first iOS phone. I am very happy with this product. Very much satisfied with this. I love this phone.',\n",
       " 'Previously I was using one plus 3t it was a great phone\\nAnd then I decided to upgrade I am stuck between Samsung s10 plus or iPhone 11\\nI have seen the specs and everything were good except the display it’s somewhere between 720-1080 and it’s not even an amoled it’s an LCD display\\nBut I decided to go with iPhone because I have never used an IOS device I have Been an android user from the past 9 years I ordered IPhone 11 (128gb) product red\\nMy experience after using 3 weeks\\n1. The delivery ...\\nREAD MORE',\n",
       " 'Amazing Powerful and Durable Gadget.\\n\\nI’m am very happy with the camera picture quality, Amazing face id unlocked in dark room, Strong battery with perfect screen size as you can carry easily in pocket. This is my third iPhone.\\n\\nI shifted from android Samsung Note series to iPhone because of the strong build quality and peace of mind for next 3-4 years.\\n\\nDon’t think to much just go for it and I suggest you to go for minimum 128gb variant or more 256gb.\\n\\nI’ve attached my puppy pics and no fi...\\nREAD MORE',\n",
       " 'So far it’s been an AMAZING experience coming back to iOS after nearly a decade but it’s not as versatile as android though phone is sturdy dropped it accidentally a couple of times and nothing happened fortunately camera is awesome',\n",
       " 'i11 is worthy to buy, too much happy with the product. Thank u flipkart I received the item on time..loved it..',\n",
       " 'What a camera .....just awesome ..you can feel this iPhone just awesome . Good for gaming also ...try pubg in hd it’s just wow']"
      ]
     },
     "execution_count": 131,
     "metadata": {},
     "output_type": "execute_result"
    }
   ],
   "source": [
    "#creating an empty list to display 100 full reviews\n",
    "full_review=[]\n",
    "\n",
    "#scrapting all tags having reviews\n",
    "Review_tags=driver5.find_elements_by_class_name('t-ZTKy')\n",
    "Review_tags[0:100]\n",
    "#displaying the tags extracted above into text \n",
    "for i in Review_tags:\n",
    "    Review=i.text\n",
    "    full_review.append(Review)\n",
    "full_review[0:100]"
   ]
  },
  {
   "cell_type": "code",
   "execution_count": 130,
   "id": "db8a16b0",
   "metadata": {},
   "outputs": [
    {
     "data": {
      "text/plain": [
       "['4.6', '5', '5', '5', '5', '5', '5', '5', '4', '5', '5']"
      ]
     },
     "execution_count": 130,
     "metadata": {},
     "output_type": "execute_result"
    }
   ],
   "source": [
    "#creating an empty list to display 100 ratings\n",
    "ratings=[]\n",
    "\n",
    "#scrapting all tags having rating\n",
    "rating_tags=driver5.find_elements_by_class_name('_3LWZlK')\n",
    "\n",
    "#displaying the tags extracted above into text \n",
    "for i in rating_tags:\n",
    "    Rating=i.text\n",
    "    ratings.append(Rating)\n",
    "ratings[0:100]"
   ]
  },
  {
   "cell_type": "code",
   "execution_count": 132,
   "id": "18036b88",
   "metadata": {},
   "outputs": [
    {
     "data": {
      "text/plain": [
       "['Brilliant',\n",
       " 'Simply awesome',\n",
       " 'Best in the market!',\n",
       " 'Perfect product!',\n",
       " 'Fabulous!',\n",
       " 'Worth every penny',\n",
       " 'Great product',\n",
       " 'Good choice',\n",
       " 'Worth every penny',\n",
       " 'Highly recommended']"
      ]
     },
     "execution_count": 132,
     "metadata": {},
     "output_type": "execute_result"
    }
   ],
   "source": [
    "#creating an empty list to display 100 summarys\n",
    "summary=[]\n",
    "\n",
    "#scrapting all tags having summary\n",
    "summary_tags=driver5.find_elements_by_class_name('_2-N8zT')\n",
    "\n",
    "#displaying the tags extracted above into text \n",
    "for i in summary_tags:\n",
    "    summaries=i.text\n",
    "    summary.append(summaries)\n",
    "summary[0:100]"
   ]
  },
  {
   "cell_type": "markdown",
   "id": "909e609c",
   "metadata": {},
   "source": [
    "# Q6: Scrape data for first 100 sneakers you find when you visit flipkart.com andsearch for “sneakers” in the\n",
    "search field.\n",
    "You have to scrape 4 attributes of each sneaker:\n",
    "1. Brand\n",
    "2. Product Description\n",
    "3. Price\n",
    "As shown in the below image, you have to scrape the tick marked attributes"
   ]
  },
  {
   "cell_type": "code",
   "execution_count": 135,
   "id": "50f3400d",
   "metadata": {},
   "outputs": [],
   "source": [
    "#connecting to the webdriver\n",
    "driver6= webdriver.Chrome(r\"C:\\Users\\Asus\\Desktop\\webdriver\\chromedriver.exe\")\n",
    "\n",
    "driver6=webdriver.Chrome(\"chromedriver.exe\")\n",
    "time.sleep(2)\n",
    "\n",
    "#opening flipkart.com website in automated window \n",
    "driver6.get('https://www.flipkart.com/')\n",
    "\n",
    "#finding the element for job search - Data Scientist\n",
    "search_feild_product_name=driver6.find_element_by_class_name('_3704LK')\n",
    "search_feild_product_name.send_keys('Sneakers')"
   ]
  },
  {
   "cell_type": "code",
   "execution_count": 136,
   "id": "638000bb",
   "metadata": {},
   "outputs": [],
   "source": [
    "#clicking on the search button to show results for 100 products\n",
    "search_button2=driver6.find_element_by_class_name('L0Z3Pu')\n",
    "search_button2.click()"
   ]
  },
  {
   "cell_type": "code",
   "execution_count": 137,
   "id": "9bf70e45",
   "metadata": {},
   "outputs": [
    {
     "data": {
      "text/plain": [
       "['HIGHLANDER',\n",
       " 'HIGHLANDER',\n",
       " 'URBANBOX',\n",
       " 'corsac',\n",
       " 'BRUTON',\n",
       " 'ONECENTRE',\n",
       " 'KWIK FIT',\n",
       " 'HRX by Hrithik Roshan',\n",
       " 'Magnolia',\n",
       " 'BIRDE',\n",
       " 'asics',\n",
       " 'ZF Klub',\n",
       " 'SCATCHITE',\n",
       " 'Labbin',\n",
       " 'BRUTON',\n",
       " 'VZAZZY',\n",
       " 'ASTEROID',\n",
       " 'Layasa',\n",
       " 'Kraasa',\n",
       " 'RED TAPE',\n",
       " 'ASTEROID',\n",
       " 'corsac',\n",
       " 'World Wear Footwear',\n",
       " 'BRUTON',\n",
       " 'RapidBox',\n",
       " 'World Wear Footwear',\n",
       " 'BRUTON',\n",
       " 'RED TAPE',\n",
       " 'World Wear Footwear',\n",
       " 'World Wear Footwear',\n",
       " 'luxury fashion',\n",
       " 'RED TAPE',\n",
       " 'CLYMB',\n",
       " 'Numenzo',\n",
       " 'aadi',\n",
       " 'HIGHLANDER',\n",
       " 'BRUTON',\n",
       " 'WHITE WALKERS',\n",
       " 'WHITE WALKERS',\n",
       " 'DUNKASTON']"
      ]
     },
     "execution_count": 137,
     "metadata": {},
     "output_type": "execute_result"
    }
   ],
   "source": [
    "#creating an empty list to display 100 Brand names\n",
    "Brand2=[]\n",
    "\n",
    "#scrapting all tags having brand names\n",
    "brand_tags2=driver6.find_elements_by_class_name('_2WkVRV')\n",
    "\n",
    "#displaying the tags extracted above into text \n",
    "for i in brand_tags2:\n",
    "    branding=i.text\n",
    "    Brand2.append(branding)\n",
    "Brand2[0:100]"
   ]
  },
  {
   "cell_type": "code",
   "execution_count": 148,
   "id": "f2e97e8f",
   "metadata": {},
   "outputs": [],
   "source": [
    "#to display the next 40 results in the next page\n",
    "Next_page6=driver6.find_element_by_xpath('/html/body/div[1]/div/div[3]/div[1]/div[2]/div[12]/div/div/nav/a[12]/span')\n",
    "Next_page6.click()"
   ]
  },
  {
   "cell_type": "code",
   "execution_count": 149,
   "id": "4d258d69",
   "metadata": {},
   "outputs": [
    {
     "data": {
      "text/plain": [
       "['Echor',\n",
       " \"LEVI'S\",\n",
       " 'PUMA',\n",
       " 'Ardeo',\n",
       " 'RED TAPE',\n",
       " 'Chevit',\n",
       " 'ADIDAS',\n",
       " 'DLS',\n",
       " 'HRX by Hrithik Roshan',\n",
       " 'U.S. POLO ASSN.',\n",
       " 'ERIX',\n",
       " 'HIGHLANDER',\n",
       " 'SPARX',\n",
       " 'EZDEZARIO',\n",
       " \"Neeman's\",\n",
       " 'ROCKFIELD',\n",
       " 'OUTALYFE',\n",
       " 'SPARX',\n",
       " 'U.S. POLO ASSN.',\n",
       " 'Smoky',\n",
       " 'BRUTON',\n",
       " 'kardam&sons',\n",
       " 'Qtsy',\n",
       " 'ROCKFIELD',\n",
       " 'RATITE',\n",
       " 'Cross Finger',\n",
       " 'PUMA',\n",
       " 'Bacan',\n",
       " 'Edoeviv',\n",
       " 'Richwon',\n",
       " 'New Balance',\n",
       " 'HIGHLANDER',\n",
       " 'ADIDAS ORIGINALS',\n",
       " \"LEVI'S\",\n",
       " 'New Balance',\n",
       " 'RED TAPE',\n",
       " 'ASIAN',\n",
       " 'Vans on',\n",
       " 'RapidBox',\n",
       " 'Extoes']"
      ]
     },
     "execution_count": 149,
     "metadata": {},
     "output_type": "execute_result"
    }
   ],
   "source": [
    "#creating an empty list to display next 40 Brand names\n",
    "Brand3=[]\n",
    "\n",
    "#scrapting all tags having brand names\n",
    "brand_tags3=driver6.find_elements_by_class_name('_2WkVRV')\n",
    "\n",
    "#displaying the tags extracted above into text \n",
    "for i in brand_tags3:\n",
    "    Branding=i.text\n",
    "    Brand3.append(Branding)\n",
    "Brand3[0:100]"
   ]
  },
  {
   "cell_type": "code",
   "execution_count": 151,
   "id": "257c1b5c",
   "metadata": {},
   "outputs": [],
   "source": [
    "#to display the next 40 results in the next page\n",
    "Next_page7=driver6.find_element_by_xpath('/html/body/div[1]/div/div[3]/div[1]/div[2]/div[12]/div/div/nav/a[12]/span')\n",
    "Next_page7.click()"
   ]
  },
  {
   "cell_type": "code",
   "execution_count": 152,
   "id": "0a38158a",
   "metadata": {},
   "outputs": [
    {
     "data": {
      "text/plain": [
       "['DUCATI',\n",
       " 'SLAZENGER',\n",
       " 'CALCADOS',\n",
       " 'BIRDE',\n",
       " 'Chevit',\n",
       " 'Chevit',\n",
       " 'Zixer',\n",
       " 'HIGHLANDER',\n",
       " 'RED CHIEF',\n",
       " 'PUMA',\n",
       " 'SPARX',\n",
       " 'PUMA',\n",
       " 'DUCATI',\n",
       " 'PUMA',\n",
       " 'Talaashfuro',\n",
       " 'RKE',\n",
       " 'PUMA',\n",
       " 'BRUTON',\n",
       " 'SPARX',\n",
       " 'PUMA']"
      ]
     },
     "execution_count": 152,
     "metadata": {},
     "output_type": "execute_result"
    }
   ],
   "source": [
    "#creating an empty list to display next 20 Brand names\n",
    "Brand4=[]\n",
    "\n",
    "#scrapting all tags having brand names\n",
    "brand_tags4=driver6.find_elements_by_class_name('_2WkVRV')\n",
    "\n",
    "#displaying the tags extracted above into text \n",
    "for i in brand_tags4:\n",
    "    Branding=i.text\n",
    "    Brand4.append(Branding)\n",
    "Brand4[0:20]"
   ]
  },
  {
   "cell_type": "code",
   "execution_count": 158,
   "id": "fad5d40a",
   "metadata": {},
   "outputs": [
    {
     "data": {
      "text/plain": [
       "['New black sneakers for men Sneakers For Men',\n",
       " 'Sneakers For Men',\n",
       " 'Sneakers Sneakers For Men',\n",
       " 'STYLISH MENS BLACK SNEAKER Sneakers For Men',\n",
       " 'Canvas shoes for Men Sneakers For Men',\n",
       " 'STR2 Sneakers For Men',\n",
       " 'Kwik FIT casual sneaker shoes and partywear shoes Casua...',\n",
       " 'Sneakers For Men',\n",
       " 'Sneakers For Men',\n",
       " 'Stylish Comfortable Lightweight, Breathable Walking Sho...',\n",
       " 'STORMER LS Sneakers For Men',\n",
       " 'Sneakers For Men',\n",
       " 'Sneakers Sneakers For Men',\n",
       " 'Sneakers For Men',\n",
       " 'Lightweight Pack Of 1 Trendy Sneakers Sneakers For Men',\n",
       " 'Sneakers For Men',\n",
       " 'Original Luxury Branded Black Fancy Casual Walking Part...',\n",
       " 'Sneakers For Men',\n",
       " 'Series 7 Sneakers For Men',\n",
       " 'Sneakers For Men',\n",
       " \"Original Luxury Branded Fashionable Men's Casual Walkin...\",\n",
       " 'STYLISH MENS BLACK TRENDY SNEAKER FOR MENS Sneakers For...',\n",
       " 'Men 5014 Latest Collection Stylish Casual Sports Loafer...',\n",
       " 'Sneakers For Men',\n",
       " 'Sneakers For Men',\n",
       " 'Latest Collection-1227 Stylish Casual Sports Sneakers F...',\n",
       " 'Lattest Sneakers Shoe Sneakers For Men',\n",
       " 'Lightweight, comfortable ,stylish Shoes Sneakers For Me...',\n",
       " '5013-Latest Collection Stylish & Trendy of casuals Snea...',\n",
       " '5011-Latest Collection Stylish & Trendy Casual Sneakers...',\n",
       " 'Sneakers For Men',\n",
       " 'Puma Smash v2 Buck Sneakers For Men',\n",
       " 'Sneakers For Men',\n",
       " '411 Casual Sneakers For Men',\n",
       " 'Sneakers For Men',\n",
       " 'Sneakers For Men',\n",
       " 'Sneaker Sneakers For Men',\n",
       " 'Stylish & Trending Outdoor Walking Comfortable Sneakers...',\n",
       " 'Stylish & Trending Outdoor Walking Comfortable Sneakers...',\n",
       " 'Classic Sneakers For Men']"
      ]
     },
     "execution_count": 158,
     "metadata": {},
     "output_type": "execute_result"
    }
   ],
   "source": [
    "Product_description11=[]\n",
    "#scrapting all the tags having product description\n",
    "product_tags12=driver6.find_elements_by_class_name(\"IRpwTa\")\n",
    "product_tags12[0:40]\n",
    "#displaying 40 tags extracted above into text \n",
    "for i in product_tags12:\n",
    "    productx=i.text\n",
    "    Product_description11.append(productx)\n",
    "Product_description11[0:40]"
   ]
  },
  {
   "cell_type": "code",
   "execution_count": 159,
   "id": "03243c67",
   "metadata": {},
   "outputs": [],
   "source": [
    "#to display the next 40 results in the next page\n",
    "Next_page8=driver6.find_element_by_xpath('/html/body/div[1]/div/div[3]/div[1]/div[2]/div[12]/div/div/nav/a[11]/span')\n",
    "Next_page8.click()"
   ]
  },
  {
   "cell_type": "code",
   "execution_count": 161,
   "id": "08e60df5",
   "metadata": {},
   "outputs": [
    {
     "data": {
      "text/plain": [
       "['BIRDE',\n",
       " 'Robbie jones',\n",
       " 'EMPTILE',\n",
       " 'HRX by Hrithik Roshan',\n",
       " 'Chevit',\n",
       " 'Dizzler',\n",
       " 'Echor',\n",
       " 'HIGHLANDER',\n",
       " 'Hida',\n",
       " 'D-SNEAKERZ',\n",
       " 'Robbie jones',\n",
       " 'RED TAPE',\n",
       " 'Chevit',\n",
       " 'Kraasa',\n",
       " 'D-SNEAKERZ',\n",
       " 'VZAZZY',\n",
       " 'ASIAN',\n",
       " 'PUMA',\n",
       " 'LuvShus',\n",
       " 'Fzzirok',\n",
       " 'bluemaker',\n",
       " 'Arohi',\n",
       " 'Chevit',\n",
       " 'HIGHLANDER',\n",
       " 'PEXLO',\n",
       " 'RODDICK SHOES',\n",
       " 'WHITE WALKERS',\n",
       " 'BRUTON',\n",
       " 'MAFLO',\n",
       " 'Echor',\n",
       " 'Dicy',\n",
       " 'RED TAPE',\n",
       " 'aadi',\n",
       " 'Kraasa',\n",
       " 'Layasa',\n",
       " 'RED TAPE',\n",
       " 'Stefano Rads',\n",
       " 'Chevit',\n",
       " 'aadi',\n",
       " 'HIGHLANDER']"
      ]
     },
     "execution_count": 161,
     "metadata": {},
     "output_type": "execute_result"
    }
   ],
   "source": [
    "Product_description12=[]\n",
    "#scrapting all the tags having product description\n",
    "product_tags13=driver6.find_elements_by_class_name(\"_2WkVRV\")\n",
    "product_tags13[0:40]\n",
    "#displaying 40 tags extracted above into text \n",
    "for i in product_tags13:\n",
    "    productxx=i.text\n",
    "    Product_description12.append(productxx)\n",
    "Product_description12[0:40]"
   ]
  },
  {
   "cell_type": "code",
   "execution_count": 162,
   "id": "575ccfe0",
   "metadata": {},
   "outputs": [],
   "source": [
    "#to display the next 40 results in the next page\n",
    "Next_page9=driver6.find_element_by_xpath('/html/body/div[1]/div/div[3]/div[1]/div[2]/div[12]/div/div/nav/a[12]/span')\n",
    "Next_page9.click()"
   ]
  },
  {
   "cell_type": "code",
   "execution_count": 164,
   "id": "56e0220c",
   "metadata": {},
   "outputs": [
    {
     "data": {
      "text/plain": [
       "['ZF Klub',\n",
       " 'ASIAN',\n",
       " 'Robbie jones',\n",
       " 'corsac',\n",
       " 'bluemaker',\n",
       " 'KNIGHT WALKERS',\n",
       " 'SPARX',\n",
       " 'AA',\n",
       " 'Hida',\n",
       " 'Shoes Bank',\n",
       " 'Airland',\n",
       " 'HOTSTYLE',\n",
       " 'New Balance',\n",
       " 'ASIAN',\n",
       " 'VECHLO',\n",
       " 'Layasa',\n",
       " 'Strollin',\n",
       " 'Bacan',\n",
       " 'Kzaara',\n",
       " 'KWIK FIT']"
      ]
     },
     "execution_count": 164,
     "metadata": {},
     "output_type": "execute_result"
    }
   ],
   "source": [
    "Product_description13=[]\n",
    "#scrapting all the tags having product description\n",
    "product_tags14=driver6.find_elements_by_class_name(\"_2WkVRV\")\n",
    "product_tags14[0:20]\n",
    "#displaying 20 tags extracted above into text \n",
    "for i in product_tags14:\n",
    "    productxxx=i.text\n",
    "    Product_description13.append(productxxx)\n",
    "Product_description13[0:20]"
   ]
  },
  {
   "cell_type": "code",
   "execution_count": 165,
   "id": "a0f98e34",
   "metadata": {},
   "outputs": [
    {
     "data": {
      "text/plain": [
       "['₹669',\n",
       " '₹669',\n",
       " '₹142',\n",
       " '₹449',\n",
       " '₹299',\n",
       " '₹250',\n",
       " '₹349',\n",
       " '₹449',\n",
       " '₹351',\n",
       " '₹269',\n",
       " '₹2,349',\n",
       " '₹499',\n",
       " '₹348',\n",
       " '₹424',\n",
       " '₹158',\n",
       " '₹354',\n",
       " '₹449',\n",
       " '₹449',\n",
       " '₹366',\n",
       " '₹589',\n",
       " '₹449',\n",
       " '₹499',\n",
       " '₹199',\n",
       " '₹2,589',\n",
       " '₹670',\n",
       " '₹199',\n",
       " '₹249',\n",
       " '₹746',\n",
       " '₹199',\n",
       " '₹199',\n",
       " '₹399',\n",
       " '₹945',\n",
       " '₹599',\n",
       " '₹424',\n",
       " '₹297',\n",
       " '₹746',\n",
       " '₹249',\n",
       " '₹549',\n",
       " '₹549',\n",
       " '₹679',\n",
       " '₹348',\n",
       " '₹945',\n",
       " '₹142',\n",
       " '₹250',\n",
       " '₹599']"
      ]
     },
     "execution_count": 165,
     "metadata": {},
     "output_type": "execute_result"
    }
   ],
   "source": [
    "Prices1=[]\n",
    "#scrapting all the tags having price\n",
    "price_tag6=driver6.find_elements_by_class_name(\"_30jeq3\")\n",
    "\n",
    "#displaying 40 tags extracted above into text \n",
    "for i in price_tag6:\n",
    "    price1=i.text\n",
    "    Prices1.append(price1)\n",
    "Prices1[0:100]"
   ]
  },
  {
   "cell_type": "code",
   "execution_count": 166,
   "id": "18e35f10",
   "metadata": {},
   "outputs": [],
   "source": [
    "#to display the next 40 results in the next page\n",
    "Next_page10=driver6.find_element_by_xpath('/html/body/div[1]/div/div[3]/div[1]/div[2]/div[12]/div/div/nav/a[11]/span')\n",
    "Next_page10.click()"
   ]
  },
  {
   "cell_type": "code",
   "execution_count": 167,
   "id": "6317ca49",
   "metadata": {},
   "outputs": [
    {
     "data": {
      "text/plain": [
       "['₹303',\n",
       " '₹346',\n",
       " '₹424',\n",
       " '₹379',\n",
       " '₹249',\n",
       " '₹420',\n",
       " '₹489',\n",
       " '₹180',\n",
       " '₹599',\n",
       " '₹384',\n",
       " '₹424',\n",
       " '₹1,734',\n",
       " '₹544',\n",
       " '₹349',\n",
       " '₹349',\n",
       " '₹746',\n",
       " '₹549',\n",
       " '₹2,199',\n",
       " '₹439',\n",
       " '₹1,348',\n",
       " '₹399',\n",
       " '₹379',\n",
       " '₹263',\n",
       " '₹399',\n",
       " '₹561',\n",
       " '₹430',\n",
       " '₹449',\n",
       " '₹249',\n",
       " '₹549',\n",
       " '₹489',\n",
       " '₹249',\n",
       " '₹239',\n",
       " '₹191',\n",
       " '₹366',\n",
       " '₹399',\n",
       " '₹945',\n",
       " '₹249',\n",
       " '₹236',\n",
       " '₹249',\n",
       " '₹998',\n",
       " '₹348',\n",
       " '₹945',\n",
       " '₹142',\n",
       " '₹250',\n",
       " '₹599']"
      ]
     },
     "execution_count": 167,
     "metadata": {},
     "output_type": "execute_result"
    }
   ],
   "source": [
    "Prices2=[]\n",
    "#scrapting all the tags having price in page 2\n",
    "price_tag7=driver6.find_elements_by_class_name(\"_30jeq3\")\n",
    "\n",
    "#displaying 40 tags extracted above into text \n",
    "for i in price_tag7:\n",
    "    price2=i.text\n",
    "    Prices2.append(price2)\n",
    "Prices2[0:100]"
   ]
  },
  {
   "cell_type": "code",
   "execution_count": 168,
   "id": "2f067341",
   "metadata": {},
   "outputs": [],
   "source": [
    "#to display the next 20 results in the next page\n",
    "Next_page11=driver6.find_element_by_xpath('/html/body/div[1]/div/div[3]/div[1]/div[2]/div[12]/div/div/nav/a[12]/span')\n",
    "Next_page11.click()"
   ]
  },
  {
   "cell_type": "code",
   "execution_count": 169,
   "id": "61aa35fe",
   "metadata": {},
   "outputs": [
    {
     "data": {
      "text/plain": [
       "['₹599',\n",
       " '₹709',\n",
       " '₹183',\n",
       " '₹945',\n",
       " '₹498',\n",
       " '₹306',\n",
       " '₹424',\n",
       " '₹1,373',\n",
       " '₹379',\n",
       " '₹1,049',\n",
       " '₹249',\n",
       " '₹669',\n",
       " '₹374',\n",
       " '₹1,699',\n",
       " '₹499',\n",
       " '₹1,423',\n",
       " '₹2,449',\n",
       " '₹424',\n",
       " '₹430',\n",
       " '₹349']"
      ]
     },
     "execution_count": 169,
     "metadata": {},
     "output_type": "execute_result"
    }
   ],
   "source": [
    "Prices3=[]\n",
    "#scrapting all the tags having price in page 2\n",
    "price_tag8=driver6.find_elements_by_class_name(\"_30jeq3\")\n",
    "\n",
    "#displaying 40 tags extracted above into text \n",
    "for i in price_tag8:\n",
    "    price3=i.text\n",
    "    Prices3.append(price3)\n",
    "Prices3[0:20]"
   ]
  },
  {
   "cell_type": "markdown",
   "id": "fdf7a6b8",
   "metadata": {},
   "source": [
    "# Q7: Go to the link - https://www.myntra.com/shoes\n",
    "Set Price filter to “Rs. 7149 to Rs. 14099 ” , Color filter to “Black”, as shown inthe below image."
   ]
  },
  {
   "cell_type": "code",
   "execution_count": 26,
   "id": "9bf70302",
   "metadata": {},
   "outputs": [],
   "source": [
    "#connecting to the webdriver\n",
    "driver6= webdriver.Chrome(r\"C:\\Users\\Asus\\Desktop\\webdriver\\chromedriver.exe\")\n",
    "\n",
    "driver6=webdriver.Chrome(\"chromedriver.exe\")\n",
    "time.sleep(2)\n",
    "\n",
    "#opening myntra.com website in automated window \n",
    "driver6.get('https://www.myntra.com/')\n",
    "\n",
    "#finding the element to search for shoes\n",
    "search_feild_product_name=driver6.find_element_by_class_name('desktop-searchBar')\n",
    "search_feild_product_name.send_keys('Shoes')"
   ]
  },
  {
   "cell_type": "code",
   "execution_count": 29,
   "id": "c50b7357",
   "metadata": {},
   "outputs": [],
   "source": [
    "#to display the results for shoes in myntra\n",
    "Next_page88=driver6.find_element_by_xpath('/html/body/div[1]/div/div/header/div[2]/div[3]/a')\n",
    "Next_page88.click()"
   ]
  },
  {
   "cell_type": "code",
   "execution_count": 31,
   "id": "ad559aef",
   "metadata": {},
   "outputs": [],
   "source": [
    "#setting filters to display in a specific price range\n",
    "price_filter=driver6.find_element_by_xpath('/html/body/div[2]/div/div[1]/main/div[3]/div[1]/section/div/div[5]/ul/li[2]/label')\n",
    "price_filter.click()\n",
    "#setting filters to display black cloured shoes \n",
    "color_filter=driver6.find_element_by_xpath('/html/body/div[2]/div/div[1]/main/div[3]/div[1]/section/div/div[6]/ul/li[1]/label')\n",
    "color_filter.click()"
   ]
  },
  {
   "cell_type": "code",
   "execution_count": 32,
   "id": "b2e3ba68",
   "metadata": {},
   "outputs": [
    {
     "data": {
      "text/plain": [
       "['ALDO',\n",
       " 'ALDO',\n",
       " 'Skechers',\n",
       " 'ALDO',\n",
       " 'Hush Puppies',\n",
       " 'Nike',\n",
       " 'one8 x PUMA',\n",
       " 'Puma',\n",
       " 'ALDO',\n",
       " 'Puma',\n",
       " 'UNDER ARMOUR',\n",
       " 'UNDER ARMOUR',\n",
       " 'UNDER ARMOUR',\n",
       " 'UNDER ARMOUR',\n",
       " 'Puma',\n",
       " 'Skechers',\n",
       " 'ALDO',\n",
       " 'Skechers',\n",
       " 'ALDO',\n",
       " 'Skechers',\n",
       " 'Skechers',\n",
       " 'Puma',\n",
       " 'Puma',\n",
       " 'Puma',\n",
       " 'PUMA Motorsport',\n",
       " 'Skechers',\n",
       " 'UNDER ARMOUR',\n",
       " 'Nike',\n",
       " 'Hush Puppies',\n",
       " 'Puma',\n",
       " 'DAVINCHI',\n",
       " 'UNDER ARMOUR',\n",
       " 'ADIDAS Originals',\n",
       " 'Puma',\n",
       " 'ADIDAS Originals',\n",
       " 'Geox',\n",
       " 'PUMA Motorsport',\n",
       " 'Nike',\n",
       " 'New Balance',\n",
       " 'UNDER ARMOUR',\n",
       " 'PUMA Motorsport',\n",
       " 'ASICS',\n",
       " 'Puma',\n",
       " 'PUMA Motorsport',\n",
       " 'PUMA Motorsport',\n",
       " 'Hush Puppies',\n",
       " 'Reebok',\n",
       " 'PUMA Motorsport',\n",
       " 'Puma',\n",
       " 'Geox']"
      ]
     },
     "execution_count": 32,
     "metadata": {},
     "output_type": "execute_result"
    }
   ],
   "source": [
    "#creating an empty list to scrap all brand names\n",
    "Brand_names1=[]\n",
    "#scrapting all the tags brand names\n",
    "brnd=driver6.find_elements_by_class_name(\"product-brand\")\n",
    "\n",
    "#displaying 50 tags extracted above into text \n",
    "for i in brnd:\n",
    "    brand=i.text\n",
    "    Brand_names1.append(brand)\n",
    "Brand_names1"
   ]
  },
  {
   "cell_type": "code",
   "execution_count": 40,
   "id": "8755e4c4",
   "metadata": {},
   "outputs": [
    {
     "data": {
      "text/plain": [
       "['Rs. 13999',\n",
       " 'Rs. 12999',\n",
       " 'Rs. 7649Rs. 8999(15% OFF)',\n",
       " 'Rs. 12999',\n",
       " 'Rs. 7649Rs. 8999(15% OFF)',\n",
       " 'Rs. 8920Rs. 10495(15% OFF)',\n",
       " 'Rs. 7999',\n",
       " 'Rs. 9999',\n",
       " 'Rs. 9999',\n",
       " 'Rs. 11049Rs. 12999(15% OFF)',\n",
       " 'Rs. 8999',\n",
       " 'Rs. 7999',\n",
       " 'Rs. 7999',\n",
       " 'Rs. 9999',\n",
       " 'Rs. 7999',\n",
       " 'Rs. 7224Rs. 8499(15% OFF)',\n",
       " 'Rs. 10999',\n",
       " 'Rs. 8074Rs. 9499(15% OFF)',\n",
       " 'Rs. 12999',\n",
       " 'Rs. 7649Rs. 8999(15% OFF)',\n",
       " 'Rs. 7224Rs. 8499(15% OFF)',\n",
       " 'Rs. 11049Rs. 12999(15% OFF)',\n",
       " 'Rs. 7499Rs. 9999(25% OFF)',\n",
       " 'Rs. 13599Rs. 15999(15% OFF)',\n",
       " 'Rs. 8999',\n",
       " 'Rs. 7649Rs. 8999(15% OFF)',\n",
       " 'Rs. 7999',\n",
       " 'Rs. 9295',\n",
       " 'Rs. 8499Rs. 9999(15% OFF)',\n",
       " 'Rs. 12749Rs. 14999(15% OFF)',\n",
       " 'Rs. 8490',\n",
       " 'Rs. 11999',\n",
       " 'Rs. 9899Rs. 10999(10% OFF)',\n",
       " 'Rs. 11049Rs. 12999(15% OFF)',\n",
       " 'Rs. 9899Rs. 10999(10% OFF)',\n",
       " 'Rs. 9441Rs. 10490(10% OFF)',\n",
       " 'Rs. 7999',\n",
       " 'Rs. 13995',\n",
       " 'Rs. 7999',\n",
       " 'Rs. 7999',\n",
       " 'Rs. 7999',\n",
       " 'Rs. 7499Rs. 9999(25% OFF)',\n",
       " 'Rs. 8499Rs. 9999(15% OFF)',\n",
       " 'Rs. 7499',\n",
       " 'Rs. 7999',\n",
       " 'Rs. 8499Rs. 9999(15% OFF)',\n",
       " 'Rs. 7999',\n",
       " 'Rs. 7999',\n",
       " 'Rs. 9999',\n",
       " 'Rs. 9891Rs. 10990(10% OFF)']"
      ]
     },
     "execution_count": 40,
     "metadata": {},
     "output_type": "execute_result"
    }
   ],
   "source": [
    "#creating an empty list to scrap all prices\n",
    "Brand_price=[]\n",
    "#scrapting all the tags brand names\n",
    "price2=driver6.find_elements_by_class_name(\"product-price\")\n",
    "\n",
    "#displaying 50 tags extracted into text\n",
    "for i in price2:\n",
    "    prce2=i.text\n",
    "    Brand_price.append(prce2)\n",
    "Brand_price"
   ]
  },
  {
   "cell_type": "code",
   "execution_count": 34,
   "id": "7227da83",
   "metadata": {},
   "outputs": [
    {
     "data": {
      "text/plain": [
       "['Men Woven Design Sneakers',\n",
       " 'Men Leather Driving Shoes',\n",
       " 'Men Max Cushioning Running',\n",
       " 'Men Leather Loafers',\n",
       " 'Men Solid Leather Formal Slip-Ons',\n",
       " 'Women React MR 3 Running Shoes',\n",
       " 'Men Fuse One8 Training Shoes',\n",
       " 'Men Colourblocked RS-Z Core',\n",
       " 'Men Sneakers',\n",
       " 'Men Jamming 2.0 Running Shoes',\n",
       " 'Men UA Charged Breeze Training',\n",
       " 'Men Vantage 2 Running Shoes',\n",
       " 'Men Charged Rouge 3 Run Shoes',\n",
       " 'Unisex Project Rock Training',\n",
       " 'Men Training or Gym Shoes',\n",
       " 'Men Go Walk 5 Walking Shoes',\n",
       " 'Men Textured Sneakers',\n",
       " 'Men MAX CUSHIONING ELITE-LUCID',\n",
       " 'Men Textured Slip-On Sneakers',\n",
       " 'Men Sky Vault Walking Shoes',\n",
       " 'Men ARCH FIT ROAD WALKER',\n",
       " 'Eternity Nitro Running Shoes',\n",
       " 'Men Liberate NITRO Running',\n",
       " 'Men D Nitro WTR Running Shoes',\n",
       " 'Unisex Ferrari IONSpeed',\n",
       " 'Men Walking Shoes',\n",
       " 'Men UA Charged Vantage 2 Run',\n",
       " 'Men Air Max Dawn Sneakers',\n",
       " 'Men Formal Derbys',\n",
       " 'Men Deviate Nitro Shoes',\n",
       " 'Men Solid Leather Formal Loafers',\n",
       " 'Men UA TriBase Reign4 Training',\n",
       " 'Men Solid Ozweego Sneakers',\n",
       " 'Men M Nitro Running Shoess',\n",
       " 'Men Niteball II Sneakers',\n",
       " 'Men Textured Leather Driving Shoes',\n",
       " 'Unisex Ferrari Drift Cat Delta',\n",
       " 'Men AIR MAX PRE-DAY Sneakers',\n",
       " 'Men Solid Mid-Top Sneakers',\n",
       " 'Women Charged Vantage 2 Run',\n",
       " 'Unisex Leather Sneakers',\n",
       " 'Men Colourblocked PU Sneakers',\n",
       " 'Unisex Leather Sneakers',\n",
       " 'Men BMW MMS R-Cat Sneakers',\n",
       " 'Unisex Porsche Legacy Sneakers',\n",
       " 'Men Solid Leather Formal Slip-Ons',\n",
       " 'Men Zig Dynamica 2.0 Running',\n",
       " 'Ferrari X-Ray Speed Sneakers',\n",
       " 'Electrify Nitro Running Shoes',\n",
       " 'Men Textured Leather Driving Shoes']"
      ]
     },
     "execution_count": 34,
     "metadata": {},
     "output_type": "execute_result"
    }
   ],
   "source": [
    "#creating an empty list to scrap all summaries\n",
    "product_desc=[]\n",
    "#scrapting all the tags having product summary\n",
    "prodd=driver6.find_elements_by_class_name(\"product-product\")\n",
    "\n",
    "#displaying 50 tags extracted into text\n",
    "for i in prodd:\n",
    "    desc=i.text\n",
    "    product_desc.append(desc)\n",
    "product_desc"
   ]
  },
  {
   "cell_type": "code",
   "execution_count": 35,
   "id": "cfa69cc6",
   "metadata": {},
   "outputs": [],
   "source": [
    "#to display the results for shoes details in the next page\n",
    "Next_page55=driver6.find_element_by_xpath('/html/body/div[2]/div/div[1]/main/div[3]/div[2]/div/div[2]/section/div[2]/ul/li[12]/a')\n",
    "Next_page55.click()"
   ]
  },
  {
   "cell_type": "code",
   "execution_count": 37,
   "id": "3ad49c73",
   "metadata": {},
   "outputs": [
    {
     "data": {
      "text/plain": [
       "['Geox',\n",
       " 'ADIDAS',\n",
       " 'Louis Philippe',\n",
       " 'New Balance',\n",
       " 'UNDER ARMOUR',\n",
       " 'Tommy Hilfiger',\n",
       " 'Tommy Hilfiger',\n",
       " 'UNDER ARMOUR',\n",
       " 'ASICS',\n",
       " 'Birkenstock',\n",
       " 'Puma',\n",
       " 'New Balance',\n",
       " 'Puma',\n",
       " 'Puma',\n",
       " 'UNDER ARMOUR',\n",
       " 'DEL MONDO',\n",
       " 'Louis Philippe',\n",
       " 'Hush Puppies',\n",
       " 'Bugatti',\n",
       " 'Columbia',\n",
       " 'ALDO',\n",
       " 'Bugatti',\n",
       " 'Geox',\n",
       " 'ROSSO BRUNELLO',\n",
       " 'J.FONTINI',\n",
       " 'J.FONTINI',\n",
       " 'New Balance',\n",
       " 'PERFLY By Decathlon',\n",
       " 'Clarks',\n",
       " 'ADIDAS',\n",
       " 'Hush Puppies',\n",
       " 'Geox',\n",
       " 'Puma',\n",
       " 'New Balance',\n",
       " 'Saint G',\n",
       " 'Puma',\n",
       " 'PUMA Hoops',\n",
       " 'New Balance',\n",
       " 'ROSSO BRUNELLO',\n",
       " 'Puma',\n",
       " 'Columbia',\n",
       " 'UNDER ARMOUR',\n",
       " 'Saint G',\n",
       " 'Geox',\n",
       " 'J.FONTINI',\n",
       " 'Geox',\n",
       " 'DAVINCHI',\n",
       " 'RARE RABBIT',\n",
       " 'MANGO',\n",
       " 'J.FONTINI']"
      ]
     },
     "execution_count": 37,
     "metadata": {},
     "output_type": "execute_result"
    }
   ],
   "source": [
    "#creating an empty list to scrap all brand names in page 2\n",
    "Brand_names2=[]\n",
    "#scrapting all the tags brand names in page 2\n",
    "brnd2=driver6.find_elements_by_class_name(\"product-brand\")\n",
    "\n",
    "#displaying 50 tags extracted above into text \n",
    "for i in brnd2:\n",
    "    brand2=i.text\n",
    "    Brand_names2.append(brand2)\n",
    "Brand_names2"
   ]
  },
  {
   "cell_type": "code",
   "execution_count": 38,
   "id": "7430c7d4",
   "metadata": {},
   "outputs": [
    {
     "data": {
      "text/plain": [
       "['Rs. 9891',\n",
       " 'Rs. 7739',\n",
       " 'Rs. 7199',\n",
       " 'Rs. 8499',\n",
       " 'Rs. 8499',\n",
       " 'Rs. 8999',\n",
       " 'Rs. 8499',\n",
       " 'Rs. 9891',\n",
       " 'Rs. 9211',\n",
       " 'Rs. 8499',\n",
       " 'Rs. 7160',\n",
       " 'Rs. 8550',\n",
       " 'Rs. 9349',\n",
       " 'Rs. 7699',\n",
       " 'Rs. 7799',\n",
       " 'Rs. 10710',\n",
       " 'Rs. 8991',\n",
       " 'Rs. 8991',\n",
       " 'Rs. 7699']"
      ]
     },
     "execution_count": 38,
     "metadata": {},
     "output_type": "execute_result"
    }
   ],
   "source": [
    "#creating an empty list to scrap all prices in page 2\n",
    "Brand_price1=[]\n",
    "#scrapting all the tags brand names\n",
    "price3=driver6.find_elements_by_class_name(\"product-discountedPrice\")\n",
    "\n",
    "#displaying 50 tags extracted into text form page 2\n",
    "for i in price3:\n",
    "    prce3=i.text\n",
    "    Brand_price1.append(prce3)\n",
    "Brand_price1"
   ]
  },
  {
   "cell_type": "code",
   "execution_count": 39,
   "id": "521470f1",
   "metadata": {},
   "outputs": [
    {
     "data": {
      "text/plain": [
       "['Men Textured Leather Driving Shoes',\n",
       " 'Men Solar Glide 5 Running Shoe',\n",
       " 'Men Solid Leather Formal Loafers',\n",
       " 'Women 680 Running Shoes',\n",
       " 'Women Breeze Running Shoes',\n",
       " 'Men Leather Sneakers',\n",
       " 'Men Flexi Sneakers',\n",
       " 'Men Charged Breeze Running',\n",
       " 'Men Running Shoes',\n",
       " 'Unisex Boston Super Grip Clogs',\n",
       " 'Unisex KING Pro 21 Football',\n",
       " 'Women Woven Running Shoes',\n",
       " 'Unisex Leather Trainers',\n",
       " 'Unisex KING Top FG Shoes',\n",
       " 'W omen TriBase Reign 4 Running',\n",
       " 'Men Leather Sneakers',\n",
       " 'Men Textured Leather Loafers',\n",
       " 'Men Solid Leather Formal Derbys',\n",
       " 'Men Leather Monks',\n",
       " 'Men FACET OUTDRY Trekking Shoe',\n",
       " 'Block Pumps with Bows',\n",
       " 'Men Solid Sneakers',\n",
       " 'Men Textured Leather Driving Shoes',\n",
       " 'Men Leather Loafers',\n",
       " 'Men Solid Loafers',\n",
       " 'Men Black Leather Loafers',\n",
       " 'Men ARISHI Running Shoes',\n",
       " 'Men Textile Badminton Shoes',\n",
       " 'Men Leather Derbys',\n",
       " 'Women Supernova Running Shoes',\n",
       " 'Men Solid Formal Slip-Ons',\n",
       " 'Women Ballerinas Flats',\n",
       " 'Women Kosmo Rider DC5 Sneakers',\n",
       " 'Women Flash Running Shoes',\n",
       " 'Women Leather Block Heels',\n",
       " 'Men Voyage Nitro Running Shoes',\n",
       " 'Men Basketball Shoes',\n",
       " 'Women Woven Running Shoes',\n",
       " 'Men Leather Driving Shoes',\n",
       " 'Women Eternity NITRO Shoes',\n",
       " 'Women Trekking Shoes',\n",
       " 'Women Charged Breeze Running',\n",
       " 'Men Leather Chelsea Boots',\n",
       " 'Men Slip-On Formal Moccasins',\n",
       " 'Men Textured Leather Loafers',\n",
       " 'Men Formal Derbys',\n",
       " 'Men Textured Formal Leather Loafers',\n",
       " 'Men Textured Leather Loafers',\n",
       " 'Embellish Mid-Top Heeled Boots',\n",
       " 'Men Leather Formal Loafers']"
      ]
     },
     "execution_count": 39,
     "metadata": {},
     "output_type": "execute_result"
    }
   ],
   "source": [
    "#creating an empty list to scrap all summaries \n",
    "product_desc1=[]\n",
    "#scrapting all the tags having product summary in page 2\n",
    "proddd=driver6.find_elements_by_class_name(\"product-product\")\n",
    "\n",
    "#displaying 50 tags extracted into text\n",
    "for i in proddd:\n",
    "    desc1=i.text\n",
    "    product_desc1.append(desc1)\n",
    "product_desc1"
   ]
  },
  {
   "cell_type": "markdown",
   "id": "d16cbf91",
   "metadata": {},
   "source": [
    "# Q8: Go to webpage https://www.amazon.in/\n",
    "Enter “Laptop” in the search field and then click the search icon.\n",
    "Then set CPU Type filter to “Intel Core i7” and “Intel Core i9” as shown in the below image:"
   ]
  },
  {
   "cell_type": "code",
   "execution_count": 46,
   "id": "6b928aae",
   "metadata": {},
   "outputs": [],
   "source": [
    "#connecting to the webdriver\n",
    "driver6= webdriver.Chrome(r\"C:\\Users\\Asus\\Desktop\\webdriver\\chromedriver.exe\")\n",
    "\n",
    "driver6=webdriver.Chrome(\"chromedriver.exe\")\n",
    "time.sleep(2)\n",
    "\n",
    "#opening myntra.com website in automated window \n",
    "driver6.get('https://www.amazon.in/')\n",
    "\n",
    "#finding the element to search for shoes\n",
    "search_feild_product_name=driver6.find_element_by_class_name('nav-input')\n",
    "search_feild_product_name.send_keys('Laptops')"
   ]
  },
  {
   "cell_type": "code",
   "execution_count": 47,
   "id": "bb2501fd",
   "metadata": {},
   "outputs": [],
   "source": [
    "#to display the results for laptops in amazon\n",
    "Next_page33=driver6.find_element_by_xpath('/html/body/div[1]/header/div/div[1]/div[2]/div/form/div[3]/div/span/input')\n",
    "Next_page33.click()"
   ]
  },
  {
   "cell_type": "code",
   "execution_count": 55,
   "id": "3f0acf66",
   "metadata": {},
   "outputs": [],
   "source": [
    "#setting filters to display filters of intel i7\n",
    "filter1=driver6.find_element_by_xpath('/html/body/div[2]/div[2]/div[1]/div[2]/div/div[3]/span/div[1]/div/div/div[6]/ul[4]/li[5]/span/a/span')\n",
    "filter1.click()"
   ]
  },
  {
   "cell_type": "code",
   "execution_count": 64,
   "id": "b45e9790",
   "metadata": {},
   "outputs": [
    {
     "data": {
      "text/plain": [
       "['HP Pavilion 11th Gen Intel Core i7 Processor 15.6 inches FHD Gaming Laptop (16GB/512GB SSD/Windows 11/NVIDIA RTX 3050 Graphics/MS Office/ Shadow Black & Ultra Violet/2.23Kg), 15-dk2096TX',\n",
       " 'ASUS TUF Gaming F15 (2022), 15.6-inch (39.62 cms) FHD 144Hz, Intel Core i7-12700H 12th Gen, RTX 3050 Ti 4GB Graphics, Gaming Laptop (16GB/512GB SSD/Windows 11/Gray/2.2 Kg), FX507ZE-HN038W',\n",
       " 'Lenovo ThinkBook 15 Intel 11th Gen Core i7 15.6\"(39.62 cm)FHD Thin and Light Laptop (16GB/512GB SSD/Windows 11 Home/MS Office H&S 2021/Iris® Xe Graphics/Backlit/Mineral Grey/1.7 Kg) 20VE00W4IH',\n",
       " 'ASUS VivoBook 14 (2021), 14-inch (35.56 cms) FHD, Intel Core i7-1065G7 10th Gen, Thin and Light Laptop (16GB/512GB SSD/Integrated Graphics/Office 2021/Windows 11/Silver/1.6 Kg), X415JA-EK701WS',\n",
       " 'HP Pavilion 14, 11th Gen Intel Core i7-16GB RAM/1TB SSD 14 inch(35.6 cm) Laptop/Intel Iris Xe Graphics/Backlit Keyboard/Alexa/B&O Audio/Fast Charge/FPR/Win 11/MS Office, 14-dv1029TU,Natural Silver',\n",
       " 'ASUS TUF Gaming F15 (2021), 15.6\" (39.62 cms) FHD 144Hz, Intel Core i7-11600H 11th Gen, 4GB RTX 3050 Graphics, Gaming Laptop (16GB/512GB SSD/Windows 10/Office 2019/Gray/2.3 Kg), FX566HCB-HN299TS',\n",
       " 'Mi Notebook Ultra 3.2K Resolution Display Intel Core i7-11370H 11th Gen 15.6-inch(39.62 cm) Thin and Light Laptop (16GB/512GB SSD/Iris Xe Graphic/Win 10/MS Office 21/Backlit KB/FP Sensor/1.7Kg)',\n",
       " 'HP Pavilion x360 11th Gen Intel Core i7 14 inch(35.6 cm) FHD Multitouch 2-in-1 Laptop(16GB RAM/512GB SSD/B&O/Win 11/FPR/Backlit KB/Intel Iris Xe Graphics/Pen/Alexa/MS Office/Silver/1.52Kg) 14-dy1047TU',\n",
       " 'HP Pavilion 11th Gen Intel Core i7 Processor 15.6 inches FHD Gaming Laptop (16GB/512GB SSD/Windows 11/NVIDIA RTX 3050 Graphics/MS Office/ Shadow Black & Ultra Violet/2.23Kg), 15-dk2096TX',\n",
       " 'LG Gram Intel Evo 11th Gen Core i7 17 inches Ultra-Light Laptop (16 GB RAM, 512 GB SSD, New Windows 11 Home Preload, Iris Xe Graphics, USC -C x 2 (with Power), 1.35 kg, 17Z90P-G.AH85A2, Black)']"
      ]
     },
     "execution_count": 64,
     "metadata": {},
     "output_type": "execute_result"
    }
   ],
   "source": [
    "#creating an empty list to scrap all brand names\n",
    "lap_names1=[]\n",
    "#scrapting all the tags brand names\n",
    "lap=driver6.find_elements_by_class_name(\"a-size-mini\")\n",
    "\n",
    "#displaying 10 tags extracted above into text \n",
    "for i in lap:\n",
    "    lap1=i.text\n",
    "    lap_names1.append(lap1)\n",
    "lap_names1[0:10]"
   ]
  },
  {
   "cell_type": "code",
   "execution_count": 65,
   "id": "f579138f",
   "metadata": {},
   "outputs": [
    {
     "data": {
      "text/plain": [
       "['87,990',\n",
       " '1,16,990',\n",
       " '86,990',\n",
       " '57,990',\n",
       " '86,490',\n",
       " '87,990',\n",
       " '77,990',\n",
       " '85,990',\n",
       " '87,990',\n",
       " '87,990']"
      ]
     },
     "execution_count": 65,
     "metadata": {},
     "output_type": "execute_result"
    }
   ],
   "source": [
    "#creating an empty list to scrap all prices for laptops\n",
    "price_lap=[]\n",
    "#scrapting all the tags brand names\n",
    "lap_price=driver6.find_elements_by_class_name(\"a-price-whole\")\n",
    "\n",
    "#displaying 10 tags extracted above into text \n",
    "for i in lap_price:\n",
    "    lap2=i.text\n",
    "    price_lap.append(lap2)\n",
    "price_lap[0:10]"
   ]
  },
  {
   "cell_type": "code",
   "execution_count": 69,
   "id": "ce6b2de8",
   "metadata": {},
   "outputs": [],
   "source": [
    "#setting filters to display filters of intel i9\n",
    "filter2=driver6.find_element_by_xpath('/html/body/div[2]/div[2]/div[1]/div[2]/div/div[3]/span/div[1]/div/div/div[6]/ul[4]/li[6]/span/a/span')\n",
    "filter2.click()"
   ]
  },
  {
   "cell_type": "code",
   "execution_count": 70,
   "id": "a12f6c1f",
   "metadata": {},
   "outputs": [
    {
     "data": {
      "text/plain": [
       "['Looking for Laptops? Shop from a wide selection of laptops from HP, Dell, Lenovo & Apple.',\n",
       " 'Acer Predator Helios 300 11th Gen Intel Core i9-11900H 15.6\" (39.62cms) FHD IPS Gaming Laptop (16 GB/1TB SSD/Win 11 Home/6 GB Graphics/NVIDIA GeForce RTX 3060/360 Hz, Black, 2.3 kg) PH315-54',\n",
       " 'ASUS ROG Zephyrus M16 (2022), 16-inch (40.64 cms) 2K QHD 165Hz/3ms, Core i9-12900H 12th Gen, RTX 3080 Ti 16GB Graphics, Gaming Laptop (32GB/2TB SSD/Win 11/Office 2021/Black/2 Kg), GU603ZX-K8024WS',\n",
       " 'ASUS ROG Strix Scar 15 (2022), 15.6-inch (39.62 cms) 2K WQHD 240Hz/3ms, Core i9-12900H 12th Gen, RTX 3070 Ti 8GB Graphics, Gaming Laptop (32GB/2TB SSD/Win 11/Office 2021/Black/2.3 Kg), G533ZW-LN106WS',\n",
       " 'ASUS ROG Strix Scar 15 (2022), 15.6\" (39.62 cms) 2K WQHD 240Hz/3ms, Intel Core i9-12900H 12th Gen, RTX 3070 Ti 8GB Graphics, Gaming Laptop (32GB/1TB SSD/Win 11/Office 2021/Black/2.3 kg) G533ZW-LN136WS',\n",
       " 'HP Envy 15- 11th Gen Intel Core i9/32GB/1TB SSD/15.6 inch(39.6 cm) 400 nits,4K AMOLED Touch, TUV + Win 11 Pro 64/NVIDIA GeForce RTX 3060 6GB Graphics/Alexa/FPR /B&O/2.14kg,15-ep1087TX, Natural Silver',\n",
       " 'Dell G7 7500 15.6inch FHD 300 Hz Display Gaming Laptop (10th Gen i9-10885H / 16 GB / 1TB SSD / NVIDIA RTX 2070 8GB Graphics / 1Yr Premium Warranty / Win 10 + MS Office H&S 2019) D560233WIN9B, Black',\n",
       " 'ASUS TUF Gaming F15 (2021), 15.6\" (39.62 cms) FHD 240Hz, Intel Core i9-11900H 11th Gen, GeForce RTX 3060 6GB Graphics, Gaming Laptop(16GB/1TB SSD/Office 2019/Windows 10/Gray/2.3 Kg), FX566HM-AZ096TS',\n",
       " 'Predator Helios 500 Gaming Laptop (11th Gen Intel Core I9/17.3\" 4K UHD Display/64GB DDR4 RAM/2TB SSD/1TB HDD/RTX 3080 Graphics/Per Key RGB Backlit Keyboard) | PH517-52',\n",
       " '(Renewed) HP Omen 15-dh0139TX Gaming Laptop (9th Gen i9-9880H/16GB/1TB HDD + 512GB SSD/Win 10/8GB NVIDIA RTX 2080 Graphics) & Z3700 Wireless Mouse']"
      ]
     },
     "execution_count": 70,
     "metadata": {},
     "output_type": "execute_result"
    }
   ],
   "source": [
    "#creating an empty list to scrap all brand names for i9\n",
    "lap_names2=[]\n",
    "#scrapting all the tags brand names\n",
    "lap2=driver6.find_elements_by_class_name(\"a-size-medium\")\n",
    "\n",
    "#displaying 10 tags extracted above into text \n",
    "for i in lap2:\n",
    "    lap3=i.text\n",
    "    lap_names2.append(lap3)\n",
    "lap_names2[0:10]"
   ]
  },
  {
   "cell_type": "code",
   "execution_count": 72,
   "id": "72aab3f2",
   "metadata": {},
   "outputs": [
    {
     "data": {
      "text/plain": [
       "['1,39,990',\n",
       " '3,31,990',\n",
       " '2,85,390',\n",
       " '2,32,394',\n",
       " '2,02,990',\n",
       " '2,05,990',\n",
       " '1,77,885',\n",
       " '3,79,990',\n",
       " '1,38,000',\n",
       " '3,29,990']"
      ]
     },
     "execution_count": 72,
     "metadata": {},
     "output_type": "execute_result"
    }
   ],
   "source": [
    "# creating an empty list to scrap all prices for laptops for i9\n",
    "price_lap1=[]\n",
    "#scrapting all the tags brand names\n",
    "lap_price3=driver6.find_elements_by_class_name(\"a-price-whole\")\n",
    "\n",
    "#displaying 10 tags extracted above into text \n",
    "for i in lap_price3:\n",
    "    lap3=i.text\n",
    "    price_lap1.append(lap3)\n",
    "price_lap1[0:10]"
   ]
  },
  {
   "cell_type": "markdown",
   "id": "49362877",
   "metadata": {},
   "source": [
    "# Q9: Write a python program to scrape data for first 10 job results for Data Scientist Designation in Noida\n",
    "location. You have to scrape company name, No. of days ago when job was posted, Rating of the company.\n",
    "This task will be done in following steps:\n",
    "1. First get the webpage https://www.ambitionbox.com/\n",
    "2. Click on the Job option as shown in the image"
   ]
  },
  {
   "cell_type": "code",
   "execution_count": 97,
   "id": "a4b8f225",
   "metadata": {},
   "outputs": [],
   "source": [
    "#connecting to the webdriver\n",
    "driver6= webdriver.Chrome(r\"C:\\Users\\Asus\\Desktop\\webdriver\\chromedriver.exe\")\n",
    "\n",
    "driver6=webdriver.Chrome(\"chromedriver.exe\")\n",
    "time.sleep(2)\n",
    "\n",
    "#opening myntra.com website in automated window \n",
    "driver6.get('https://www.ambitionbox.com/')\n",
    "\n",
    "#to display the jobs tab for in abmitionbox\n",
    "amb_jobs=driver6.find_element_by_xpath('/html/body/div[1]/nav/nav/a[6]')\n",
    "amb_jobs.click()\n",
    "\n",
    "#finding the element to search and entering \"Data Scientist\"\n",
    "search_feild_designation=driver6.find_element_by_xpath('/html/body/div/div/div/div[2]/div[1]/div[1]/div/div/div/div/span/input')\n",
    "search_feild_designation.send_keys('Data Scientist')\n",
    "\n",
    "#clicking on search to display results\n",
    "amb_se=driver6.find_element_by_xpath('/html/body/div/div/div/div[2]/div[1]/div[1]/div/div/div/button')\n",
    "amb_se.click()"
   ]
  },
  {
   "cell_type": "code",
   "execution_count": 98,
   "id": "5b425882",
   "metadata": {},
   "outputs": [],
   "source": [
    "#clicking on location tab to filter location to Noida\n",
    "filt=driver6.find_element_by_xpath('/html/body/div/div/div/div[2]/div[1]/div[2]/div[1]/div/div/div/div[2]/div[1]/p')\n",
    "filt.click()"
   ]
  },
  {
   "cell_type": "code",
   "execution_count": 100,
   "id": "9ea464c9",
   "metadata": {},
   "outputs": [],
   "source": [
    "#finding the element\n",
    "search_feild_location=driver6.find_element_by_xpath('/html/body/div/div/div/div[2]/div[1]/div[2]/div[1]/div/div/div/div[2]/div[2]/div/div[2]/input')\n",
    "search_feild_location.send_keys('Noida')\n",
    "\n",
    "#selecting Noida and searching for 10 results\n",
    "filtr=driver6.find_element_by_xpath('/html/body/div/div/div/div[2]/div[1]/div[2]/div[1]/div/div/div/div[2]/div[2]/div/div[3]/div[1]/div[1]/div/label')\n",
    "filtr.click()"
   ]
  },
  {
   "cell_type": "code",
   "execution_count": 110,
   "id": "c33303e0",
   "metadata": {},
   "outputs": [
    {
     "data": {
      "text/plain": [
       "['EXL Services.com ( I ) Pvt. Ltd.',\n",
       " 'GENPACT India Private Limited',\n",
       " 'EXL Services.com ( I ) Pvt. Ltd.',\n",
       " 'GENPACT India Private Limited',\n",
       " 'TECHNIP GLOBAL BUSINESS SERVICES PRIVATE LIMITED',\n",
       " 'Tech Mahindra Ltd',\n",
       " 'GENPACT India Private Limited',\n",
       " 'Bristlecone India Limited',\n",
       " 'Zyoin',\n",
       " 'Ashkom Media India Private Limited']"
      ]
     },
     "execution_count": 110,
     "metadata": {},
     "output_type": "execute_result"
    }
   ],
   "source": [
    "#creating an empty list to scrap 10 company names\n",
    "comp_desc=[]\n",
    "#scrapting all the tags having names\n",
    "comp1=driver6.find_elements_by_class_name(\"company\")\n",
    "\n",
    "#displaying 10 tags extracted into text\n",
    "for i in comp1:\n",
    "    desc2=i.text\n",
    "    comp_desc.append(desc2)\n",
    "comp_desc[0:10]"
   ]
  },
  {
   "cell_type": "code",
   "execution_count": 122,
   "id": "a674d278",
   "metadata": {},
   "outputs": [
    {
     "data": {
      "text/plain": [
       "['4.0', '3.9', '4.0', '3.9', '3.7', '4.0', '3.8', '4.1', '3.7', '3.5']"
      ]
     },
     "execution_count": 122,
     "metadata": {},
     "output_type": "execute_result"
    }
   ],
   "source": [
    "#creating an empty list to scrap 10 details of reviews\n",
    "days_ago=[]\n",
    "#scrapting all the tags having reviews\n",
    "day=driver6.find_elements_by_class_name(\"body-small\")\n",
    "\n",
    "#displaying 10 tags extracted into text\n",
    "for i in day:\n",
    "    days=i.text\n",
    "    days_ago.append(days)\n",
    "days_ago[0:10]"
   ]
  },
  {
   "cell_type": "code",
   "execution_count": 123,
   "id": "65775285",
   "metadata": {},
   "outputs": [
    {
     "name": "stdout",
     "output_type": "stream",
     "text": [
      "10 11\n"
     ]
    }
   ],
   "source": [
    "#printing the length of each list \n",
    "print(len(days_ago),len(comp_desc))"
   ]
  },
  {
   "cell_type": "code",
   "execution_count": null,
   "id": "542b71bb",
   "metadata": {},
   "outputs": [],
   "source": [
    "# Note: For Q9 i was unable to extract the days ago and also the lengh of the data shows incorrect. eg(comp_desc has 10 names, but when length is taken it shows 11)"
   ]
  },
  {
   "cell_type": "markdown",
   "id": "b046cdea",
   "metadata": {},
   "source": [
    "# Q10: Write a python program to scrape the salary data for Data Scientist designation.\n",
    "You have to scrape Company name, Number of salaries, Average salary, Minsalary, Max Salary.\n",
    "The above task will be, done as shown in the below steps:\n",
    "1. First get the webpage https://www.ambitionbox.com/\n",
    "2. Click on the salaries option as shown in the image."
   ]
  },
  {
   "cell_type": "code",
   "execution_count": 124,
   "id": "74ae0384",
   "metadata": {},
   "outputs": [],
   "source": [
    "#connecting to the webdriver\n",
    "driver6= webdriver.Chrome(r\"C:\\Users\\Asus\\Desktop\\webdriver\\chromedriver.exe\")\n",
    "\n",
    "driver6=webdriver.Chrome(\"chromedriver.exe\")\n",
    "time.sleep(2)\n",
    "\n",
    "#opening myntra.com website in automated window \n",
    "driver6.get('https://www.ambitionbox.com/')\n",
    "\n",
    "#to display the salary tab for in abmitionbox\n",
    "amb_salary=driver6.find_element_by_xpath('/html/body/div[1]/nav/nav/a[4]')\n",
    "amb_salary.click()\n",
    "\n",
    "#finding the element to search and entering \"Data Scientist\"\n",
    "search_feild_designation=driver6.find_element_by_xpath('/html/body/div/div/div/div[2]/div/div/div/div[1]/span/input')\n",
    "search_feild_designation.send_keys('Data Scientist')\n",
    "\n",
    "#clicking on search to display results\n",
    "amb_sal=driver6.find_element_by_xpath('/html/body/div[1]/div/div/div[2]/div/div/div/button/span')\n",
    "amb_sal.click()"
   ]
  },
  {
   "cell_type": "code",
   "execution_count": 127,
   "id": "d54ba4d2",
   "metadata": {},
   "outputs": [
    {
     "data": {
      "text/plain": [
       "['Walmart\\nbased on 11 salaries',\n",
       " 'Ab Inbev\\nbased on 32 salaries',\n",
       " 'Reliance Jio\\nbased on 10 salaries',\n",
       " 'ZS\\nbased on 15 salaries',\n",
       " 'Optum\\nbased on 27 salaries',\n",
       " 'Fractal Analytics\\nbased on 81 salaries',\n",
       " 'Tiger Analytics\\nbased on 46 salaries',\n",
       " 'UnitedHealth\\nbased on 53 salaries',\n",
       " 'Verizon\\nbased on 14 salaries',\n",
       " 'Ganit Business Solutions\\nbased on 13 salaries']"
      ]
     },
     "execution_count": 127,
     "metadata": {},
     "output_type": "execute_result"
    }
   ],
   "source": [
    "#creating an empty list to scrap 10 company names\n",
    "comp_desc2=[]\n",
    "#scrapting all the tags having names\n",
    "comp2=driver6.find_elements_by_class_name(\"name\")\n",
    "\n",
    "#displaying 10 tags extracted into text\n",
    "for i in comp2:\n",
    "    desc3=i.text\n",
    "    comp_desc2.append(desc3)\n",
    "comp_desc2[0:10]"
   ]
  },
  {
   "cell_type": "code",
   "execution_count": 128,
   "id": "df1add22",
   "metadata": {},
   "outputs": [
    {
     "data": {
      "text/plain": [
       "['Data Scientist\\n . \\n3 yrs exp',\n",
       " 'Data Scientist\\n . \\n3-4 yrs exp',\n",
       " 'Data Scientist\\n . \\n4 yrs exp',\n",
       " 'Data Scientist\\n . \\n2 yrs exp',\n",
       " 'Data Scientist\\n . \\n3-4 yrs exp',\n",
       " 'Data Scientist\\n . \\n2-4 yrs exp',\n",
       " 'Data Scientist\\n . \\n2-4 yrs exp',\n",
       " 'Data Scientist\\n . \\n2-4 yrs exp',\n",
       " 'Data Scientist\\n . \\n4 yrs exp',\n",
       " 'Data Scientist\\n . \\n4 yrs exp']"
      ]
     },
     "execution_count": 128,
     "metadata": {},
     "output_type": "execute_result"
    }
   ],
   "source": [
    "#creating an empty list to scrap expreience required\n",
    "exp_rqd=[]\n",
    "#scrapting all the tags having names\n",
    "experience=driver6.find_elements_by_class_name(\"salaries\")\n",
    "\n",
    "#displaying 10 tags extracted into text\n",
    "for i in experience:\n",
    "    exp=i.text\n",
    "    exp_rqd.append(exp)\n",
    "exp_rqd[0:10]"
   ]
  },
  {
   "cell_type": "code",
   "execution_count": 139,
   "id": "f5a86282",
   "metadata": {},
   "outputs": [
    {
     "data": {
      "text/plain": [
       "['₹ 25.0L',\n",
       " '₹ 35.0L',\n",
       " '₹ 15.0L',\n",
       " '₹ 25.5L',\n",
       " '₹ 5.6L',\n",
       " '₹ 26.2L',\n",
       " '₹ 9.8L',\n",
       " '₹ 20.0L',\n",
       " '₹ 11.0L',\n",
       " '₹ 22.0L']"
      ]
     },
     "execution_count": 139,
     "metadata": {},
     "output_type": "execute_result"
    }
   ],
   "source": [
    "#creating an empty list to scrap max salary\n",
    "max_sal=[]\n",
    "#scrapting all the tags having the maximum salary\n",
    "maximum=driver6.find_elements_by_class_name(\"value\")\n",
    "\n",
    "#displaying 10 tags extracted into text\n",
    "for i in maximum:\n",
    "    exp1=i.text\n",
    "    max_sal.append(exp1)\n",
    "max_sal[0:10]"
   ]
  },
  {
   "cell_type": "code",
   "execution_count": 132,
   "id": "ca488371",
   "metadata": {},
   "outputs": [
    {
     "data": {
      "text/plain": [
       "['₹ 29.7L',\n",
       " '₹ 20.5L',\n",
       " '₹ 18.9L',\n",
       " '₹ 15.9L',\n",
       " '₹ 15.2L',\n",
       " '₹ 15.2L',\n",
       " '₹ 14.8L',\n",
       " '₹ 14.0L',\n",
       " '₹ 12.7L',\n",
       " '₹ 12.4L']"
      ]
     },
     "execution_count": 132,
     "metadata": {},
     "output_type": "execute_result"
    }
   ],
   "source": [
    "#creating an empty list to scrap average max salary\n",
    "avg_sal=[]\n",
    "#scrapting all the tags having the averager salary\n",
    "average=driver6.find_elements_by_class_name(\"averageCtc\")\n",
    "\n",
    "#displaying 10 tags extracted into text\n",
    "for i in average:\n",
    "    avg=i.text\n",
    "    avg_sal.append(avg)\n",
    "avg_sal[0:10]"
   ]
  },
  {
   "cell_type": "code",
   "execution_count": 133,
   "id": "593a96a7",
   "metadata": {},
   "outputs": [
    {
     "data": {
      "text/plain": [
       "['₹ 25.0L',\n",
       " '₹ 35.0L',\n",
       " '₹ 15.0L',\n",
       " '₹ 25.5L',\n",
       " '₹ 5.6L',\n",
       " '₹ 26.2L',\n",
       " '₹ 9.8L',\n",
       " '₹ 20.0L',\n",
       " '₹ 11.0L',\n",
       " '₹ 22.0L']"
      ]
     },
     "execution_count": 133,
     "metadata": {},
     "output_type": "execute_result"
    }
   ],
   "source": [
    "#creating an empty list to scrap minimmum salary\n",
    "min_sal=[]\n",
    "#scrapting all the tags having min salary\n",
    "mini=driver6.find_elements_by_class_name(\"value\")\n",
    "\n",
    "#displaying 10 tags extracted into text\n",
    "for i in mini:\n",
    "    minimum=i.text\n",
    "    min_sal.append(minimum)\n",
    "min_sal[0:10]"
   ]
  },
  {
   "cell_type": "code",
   "execution_count": 141,
   "id": "cbc3a09b",
   "metadata": {},
   "outputs": [
    {
     "name": "stdout",
     "output_type": "stream",
     "text": [
      "25 10 10 20 20\n"
     ]
    }
   ],
   "source": [
    "#printing the length of each list \n",
    "print(len(comp_desc2),len(exp_rqd),len(avg_sal),len(max_sal),len(min_sal))"
   ]
  },
  {
   "cell_type": "code",
   "execution_count": null,
   "id": "f61c81c6",
   "metadata": {},
   "outputs": [],
   "source": []
  }
 ],
 "metadata": {
  "kernelspec": {
   "display_name": "Python 3 (ipykernel)",
   "language": "python",
   "name": "python3"
  },
  "language_info": {
   "codemirror_mode": {
    "name": "ipython",
    "version": 3
   },
   "file_extension": ".py",
   "mimetype": "text/x-python",
   "name": "python",
   "nbconvert_exporter": "python",
   "pygments_lexer": "ipython3",
   "version": "3.9.7"
  }
 },
 "nbformat": 4,
 "nbformat_minor": 5
}
