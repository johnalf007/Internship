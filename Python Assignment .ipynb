{
 "cells": [
  {
   "cell_type": "markdown",
   "id": "0aaf85a8",
   "metadata": {},
   "source": [
    "# To find the Factorial of a number"
   ]
  },
  {
   "cell_type": "code",
   "execution_count": 10,
   "id": "62edaa6b",
   "metadata": {},
   "outputs": [
    {
     "name": "stdout",
     "output_type": "stream",
     "text": [
      "Enter the factorial that needs to be calculated: 6\n"
     ]
    }
   ],
   "source": [
    "n = int(input(\"Enter the factorial that needs to be calculated: \"))\n",
    "fact =1"
   ]
  },
  {
   "cell_type": "code",
   "execution_count": 11,
   "id": "111297a9",
   "metadata": {},
   "outputs": [],
   "source": [
    "for i in range(1, n+1):\n",
    "    fact = fact*i"
   ]
  },
  {
   "cell_type": "code",
   "execution_count": 12,
   "id": "2358df9f",
   "metadata": {},
   "outputs": [
    {
     "name": "stdout",
     "output_type": "stream",
     "text": [
      "The factorial of 6 =720\n"
     ]
    }
   ],
   "source": [
    "print(\"The factorial of %d =%d\" %(n,fact))"
   ]
  },
  {
   "cell_type": "markdown",
   "id": "6d56cbd3",
   "metadata": {},
   "source": [
    "# To Find wheather a number is prime or composoite"
   ]
  },
  {
   "cell_type": "code",
   "execution_count": 14,
   "id": "b924c464",
   "metadata": {},
   "outputs": [
    {
     "name": "stdout",
     "output_type": "stream",
     "text": [
      "Enter any number:435\n",
      "435 is not prime but composite number\n"
     ]
    }
   ],
   "source": [
    "n= int(input(\"Enter any number:\"))\n",
    "if n>1:\n",
    "    \n",
    "\n",
    "    for i in range(2,n):\n",
    "        if(n%i == 0):\n",
    "            print(n,\"is not prime but composite number\")\n",
    "            break\n",
    "    else:\n",
    "        print(n,\"number is prime but not composite number\")\n",
    "elif n==0 or 1:\n",
    "    print(n,\"is a neither prime or composite number\")\n",
    "else:\n",
    "    print(\"is not a prime number is a composite number \")"
   ]
  },
  {
   "cell_type": "markdown",
   "id": "76516127",
   "metadata": {},
   "source": [
    "# To check whether a given string is palindrome or not"
   ]
  },
  {
   "cell_type": "code",
   "execution_count": 15,
   "id": "58a570cb",
   "metadata": {},
   "outputs": [
    {
     "name": "stdout",
     "output_type": "stream",
     "text": [
      "Enter your own textMALAYALAM\n",
      "This is a palindrome string\n"
     ]
    }
   ],
   "source": [
    "v=input(\"Enter your own text\")\n",
    "if(v == v[:: -1]):\n",
    "    print(\"This is a palindrome string\")\n",
    "else:\n",
    "    print(\"This is not\")"
   ]
  },
  {
   "cell_type": "markdown",
   "id": "9103784e",
   "metadata": {},
   "source": [
    "# To get the third side of right-angled triangle from two given sides"
   ]
  },
  {
   "cell_type": "code",
   "execution_count": 19,
   "id": "4f46178f",
   "metadata": {},
   "outputs": [],
   "source": [
    "def pythagoras(opposite_side,adjacent_side,hypotenuse):\n",
    "    if opposite_side == str(\"x\"):\n",
    "        return (\"Opposite = \" + str(((hypotenuse**2) - (adjacent_side**2))**0.5))\n",
    "    elif adjacent_side == str(\"x\"):\n",
    "        return (\"Adjacent = \" + str(((hypotenuse**2) - (opposite_side**2))**0.5))\n",
    "    elif hypotenuse == str(\"x\"):\n",
    "        return (\"Hypotenuse = \" + str(((opposite_side**2) + (adjacent_side**2))**0.5))\n",
    "    else:\n",
    "        return(\"The answer is right here\")\n",
    "   "
   ]
  },
  {
   "cell_type": "code",
   "execution_count": 20,
   "id": "7305f9d6",
   "metadata": {},
   "outputs": [
    {
     "name": "stdout",
     "output_type": "stream",
     "text": [
      "Hypotenuse = 5.0\n",
      "Adjacent = 4.0\n",
      "Opposite = 3.0\n",
      "The answer is right here\n"
     ]
    }
   ],
   "source": [
    "print(pythagoras(3,4,'x'))\n",
    "print(pythagoras(3,'x',5))\n",
    "print(pythagoras('x',4,5))\n",
    "print(pythagoras(3,4,5))"
   ]
  },
  {
   "cell_type": "markdown",
   "id": "bde8e807",
   "metadata": {},
   "source": [
    "# To find the frequency of each of the characters present in a given string"
   ]
  },
  {
   "cell_type": "code",
   "execution_count": 21,
   "id": "d4eb419e",
   "metadata": {},
   "outputs": [
    {
     "name": "stdout",
     "output_type": "stream",
     "text": [
      "Given String:  Supermarket\n",
      "Frequency of each character :\n",
      "  {'S': 1, 'u': 1, 'p': 1, 'e': 2, 'r': 2, 'm': 1, 'a': 1, 'k': 1, 't': 1}\n"
     ]
    }
   ],
   "source": [
    "strB = \"Supermarket\"\n",
    "print(\"Given String: \",strB)\n",
    "res = {}\n",
    "for keys in strB:\n",
    "    res[keys] = res.get(keys, 0) + 1\n",
    "print(\"Frequency of each character :\\n \",res)\n"
   ]
  },
  {
   "cell_type": "code",
   "execution_count": null,
   "id": "afe9ac76",
   "metadata": {},
   "outputs": [],
   "source": []
  }
 ],
 "metadata": {
  "kernelspec": {
   "display_name": "Python 3 (ipykernel)",
   "language": "python",
   "name": "python3"
  },
  "language_info": {
   "codemirror_mode": {
    "name": "ipython",
    "version": 3
   },
   "file_extension": ".py",
   "mimetype": "text/x-python",
   "name": "python",
   "nbconvert_exporter": "python",
   "pygments_lexer": "ipython3",
   "version": "3.9.7"
  }
 },
 "nbformat": 4,
 "nbformat_minor": 5
}
